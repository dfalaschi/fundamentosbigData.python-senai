{
 "cells": [
  {
   "cell_type": "markdown",
   "metadata": {},
   "source": [
    "Exercício 14 \n",
    "\n",
    " Faça um programa que peça 10 números inteiros, calcule e mostre a\n",
    "quantidade de números pares e a quantidade de números ímpares"
   ]
  },
  {
   "cell_type": "code",
   "execution_count": 19,
   "metadata": {},
   "outputs": [
    {
     "name": "stdout",
     "output_type": "stream",
     "text": [
      " lista [10, 20, 30, 5, 8, 9, 7, 5, 8, 952]\n",
      " Nesse conjunto de números. contém 4 números impares e 5 números pares\n"
     ]
    }
   ],
   "source": [
    "# Lista vazia, responsável por armazenar os valores iseridos\n",
    "lista = [] #Lista vazia\n",
    "\n",
    "# Variável de controle de repetição\n",
    "i = 1 # Variável de controle\n",
    "\n",
    "while i <= 10:\n",
    "    numero = int(input('Digite um número'))\n",
    "\n",
    "    lista.append (numero)\n",
    "    i = i+1\n",
    "\n",
    "impar = 0\n",
    "par = 0\n",
    "\n",
    "for num in numeros:\n",
    "\n",
    "    if num % 2 != 0:\n",
    "        impar += 1\n",
    "    \n",
    "    else:\n",
    "        par +=1\n",
    "print(f' lista {lista}')\n",
    "\n",
    "print(F' Nesse conjunto de números. contém {impar} números impares e {par} números pares')\n",
    "\n",
    "\n"
   ]
  },
  {
   "cell_type": "code",
   "execution_count": 15,
   "metadata": {},
   "outputs": [
    {
     "name": "stdout",
     "output_type": "stream",
     "text": [
      "[1, 2, 3, 4, 5, 67, 8, 9, 10, 2, 5]\n"
     ]
    }
   ],
   "source": [
    "lista = [] #Lista vazia\n",
    "\n",
    "i = 0 # Variável de controle\n",
    "\n",
    "while i <= 10:\n",
    "    numero = int(input('Digite um número'))\n",
    "\n",
    "    lista.append (numero)\n",
    "    i = i+1\n",
    "\n",
    "print(lista)"
   ]
  },
  {
   "cell_type": "markdown",
   "metadata": {},
   "source": [
    "Exercício 08 \n",
    "\n",
    " Faça um programa que leia 5 números e informe a soma e a média dos\n",
    "números"
   ]
  },
  {
   "cell_type": "code",
   "execution_count": 31,
   "metadata": {},
   "outputs": [
    {
     "name": "stdout",
     "output_type": "stream",
     "text": [
      "A soma dos valores é: 17.0\n",
      "A média dos valores é: 3.4\n"
     ]
    }
   ],
   "source": [
    "#Criar lista vazia\n",
    "lista_numeros = []\n",
    "\n",
    "#Criação de variavel de controle\n",
    "i = 0\n",
    "\n",
    "#Estrutura de repetição para solicitar os 5 valores\n",
    "while i < 5:\n",
    "    numero = float(input('Digite um número: '))\n",
    "    lista_numeros.append (numero)\n",
    "    i = i+1\n",
    "\n",
    "#Declarar a variavel para armazenar a soma dos valores\n",
    "soma = 0\n",
    "\n",
    "#Soma dos valores da lista\n",
    "for x in lista_numeros:\n",
    "    #Somar a variavel soma com o valor da variavel X\n",
    "    soma = soma + x\n",
    "\n",
    "media = soma / i\n",
    "\n",
    "print(f'A soma dos valores é: {soma}')\n",
    "print(f'A média dos valores é: {media}')"
   ]
  },
  {
   "cell_type": "markdown",
   "metadata": {},
   "source": [
    "Exercício 17 \n",
    "\n",
    "Faça um programa que calcule o fatorial de um número inteiro fornecido\n",
    "pelo usuário. Ex.: 5!=5.4.3.2.1=120"
   ]
  },
  {
   "cell_type": "code",
   "execution_count": 12,
   "metadata": {},
   "outputs": [
    {
     "name": "stdout",
     "output_type": "stream",
     "text": [
      "******** calculo de fatorial *******\n",
      "39916800\n"
     ]
    }
   ],
   "source": [
    "print (\"******** calculo de fatorial *******\")\n",
    "\n",
    "i = int(input('Digite um numero para calcular o fatorial: '))\n",
    "fatorial = i\n",
    "\n",
    "while i >= 1:\n",
    "    i = i - 1\n",
    "    if i != 0:\n",
    "         fatorial = fatorial * i\n",
    "    \n",
    "print( fatorial)\n"
   ]
  },
  {
   "cell_type": "markdown",
   "metadata": {},
   "source": [
    "Exercício 03 \n",
    "\n",
    " Faça um programa que calcule a soma dos números de 1 a 100.\n"
   ]
  },
  {
   "cell_type": "code",
   "execution_count": 1,
   "metadata": {},
   "outputs": [
    {
     "name": "stdout",
     "output_type": "stream",
     "text": [
      "A foma é 5050\n"
     ]
    }
   ],
   "source": [
    "# Criar uma lista de valores de 0 até 100\n",
    "numeros = range(1,101)\n",
    "\n",
    "# Criar uma variável acumuladora\n",
    "soma = 0\n",
    "\n",
    "for num in numeros: \n",
    "    soma = soma + num\n",
    "\n",
    "print('A foma é', soma)\n"
   ]
  },
  {
   "cell_type": "markdown",
   "metadata": {},
   "source": [
    "Exercício 05\n",
    "\n",
    " Crie um programa que solicite ao usuário que digite uma senha e\n",
    "continue pedindo até que a senha digitada seja igual a \"12345\". Quando a senha\n",
    "for correta, exiba uma mensagem de boas-vindas. (WHILE)"
   ]
  },
  {
   "cell_type": "code",
   "execution_count": 3,
   "metadata": {},
   "outputs": [
    {
     "name": "stdout",
     "output_type": "stream",
     "text": [
      "Seja bem vindo\n"
     ]
    }
   ],
   "source": [
    "senha = input(\"Digite a senha:\")\n",
    "\n",
    "while senha != \"12345\":\n",
    "    senha = input(\"Digite a senha:\")\n",
    "\n",
    "    print('Seja bem vindo')\n",
    "\n",
    "\n"
   ]
  }
 ],
 "metadata": {
  "kernelspec": {
   "display_name": "Python 3",
   "language": "python",
   "name": "python3"
  },
  "language_info": {
   "codemirror_mode": {
    "name": "ipython",
    "version": 3
   },
   "file_extension": ".py",
   "mimetype": "text/x-python",
   "name": "python",
   "nbconvert_exporter": "python",
   "pygments_lexer": "ipython3",
   "version": "3.11.0"
  },
  "orig_nbformat": 4
 },
 "nbformat": 4,
 "nbformat_minor": 2
}
