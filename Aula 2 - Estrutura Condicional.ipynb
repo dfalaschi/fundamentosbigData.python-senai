{
 "cells": [
  {
   "cell_type": "markdown",
   "id": "de51935a",
   "metadata": {},
   "source": [
    "## Exercício 01 \n",
    "\n",
    "Crie uma variável chamada \"idade\" e atribua um valor inteiro a ela.\n",
    "Verifique se a idade é maior ou igual a 18 e imprima \"Maior de idade\" ou \"Menor de\n",
    "idade\" de acordo com a condição."
   ]
  },
  {
   "cell_type": "code",
   "execution_count": null,
   "id": "6bb7ca06",
   "metadata": {},
   "outputs": [],
   "source": [
    "idade = 25\n",
    "\n",
    "if idade >= 18:\n",
    "    print('Maior de idade')\n",
    "else:\n",
    "    print('Menor de idade')\n",
    "    "
   ]
  },
  {
   "cell_type": "markdown",
   "id": "ed969318",
   "metadata": {},
   "source": [
    "## Exercício 02 - Com o input\n",
    "\n",
    "Crie uma variável chamada \"número\" e atribua um valor inteiro a ela.\n",
    "Verifique se o número é positivo, negativo ou zero e imprima a mensagem\n",
    "correspondente.\n"
   ]
  },
  {
   "cell_type": "code",
   "execution_count": null,
   "id": "88561fe7",
   "metadata": {},
   "outputs": [],
   "source": [
    "#usuario preenche o número \n",
    "numero = input('Digite um número')\n",
    "\n",
    "#definição de formato de campo\n",
    "numero = int (numero)\n",
    "\n",
    "#condicional\n",
    "if numero > 0:\n",
    "    print('Número Positivo')\n",
    "else:\n",
    "    print('Número Negativo')\n",
    "    "
   ]
  },
  {
   "cell_type": "markdown",
   "id": "95c1792c",
   "metadata": {},
   "source": [
    "## Exercício 02 \n",
    "\n",
    "Crie uma variável chamada \"número\" e atribua um valor inteiro a ela.\n",
    "Verifique se o número é positivo, negativo ou zero e imprima a mensagem\n",
    "correspondente."
   ]
  },
  {
   "cell_type": "code",
   "execution_count": null,
   "id": "384c3846",
   "metadata": {},
   "outputs": [],
   "source": [
    "num = 0\n",
    "\n",
    "if num > 0:\n",
    "    print('Positivo')\n",
    "elif num < 0:\n",
    "    print('Negativo')\n",
    "else:\n",
    "    print('Nulo')\n"
   ]
  },
  {
   "cell_type": "markdown",
   "id": "e127549d",
   "metadata": {},
   "source": [
    "## Exercício 03\n",
    "\n",
    "Crie duas variáveis, \"nota1\" e \"nota2\", e atribua valores numéricos a elas.\n",
    "Verifique se a média das notas é maior ou igual a 7 e imprima \"Aprovado\" ou\n",
    "\"Reprovado\" de acordo com a condição."
   ]
  },
  {
   "cell_type": "code",
   "execution_count": null,
   "id": "43459776",
   "metadata": {},
   "outputs": [],
   "source": [
    "#incluindo as notas\n",
    "nota_1 = input ('Digite a nota 01: ')\n",
    "nota_2 = input ('Digite a nota 02: ')\n",
    "\n",
    "#convertendo as notas para float - números decimais\n",
    "nota_1 = float(nota_1)\n",
    "nota_2 = float(nota_2)\n",
    "\n",
    "media = (nota_1 + nota_2) / 2\n",
    "\n",
    "print(media)\n",
    "\n",
    "if media >= 7:\n",
    "    print('Aprovado')\n",
    "else:\n",
    "    print('Reprovado')\n",
    "    "
   ]
  },
  {
   "cell_type": "markdown",
   "id": "caadb1c7",
   "metadata": {},
   "source": [
    "## Exercício 04 \n",
    "\n",
    "Crie uma variável chamada \"idade\" e atribua um valor inteiro a ela.\n",
    "Verifique se a idade está dentro do intervalo de 18 a 30 (inclusive) e imprima a\n",
    "mensagem \"Idade válida\" ou \"Idade inválida\" de acordo com a condição."
   ]
  },
  {
   "cell_type": "code",
   "execution_count": null,
   "id": "7e07d9ad",
   "metadata": {},
   "outputs": [],
   "source": [
    "idade = input('Digite a idade: ')\n",
    "\n",
    "idade = int(idade)\n",
    "\n",
    "if idade >= 18 and idade <= 30:\n",
    "    print ('Idade Valida')\n",
    "else:\n",
    "    print ('Idade inválida')\n",
    "    "
   ]
  },
  {
   "cell_type": "markdown",
   "id": "839e738c",
   "metadata": {},
   "source": [
    "## Exercício 05\n",
    "\n",
    "Crie uma variável chamada \"numero\" e atribua um valor inteiro a ela.\n",
    "Verifique se o número é par ou ímpar e imprima a mensagem correspondente.\n"
   ]
  },
  {
   "cell_type": "code",
   "execution_count": null,
   "id": "382f4554",
   "metadata": {},
   "outputs": [],
   "source": [
    "num = input('Digite um número: ')\n",
    "\n",
    "num = int(num)\n",
    "\n",
    "if num % 2 == 0:\n",
    "    print ('Número positivo')\n",
    "else:\n",
    "    print('Número negativo')"
   ]
  },
  {
   "cell_type": "markdown",
   "id": "2cb73b0c",
   "metadata": {},
   "source": [
    "## Exercício 06 \n",
    "\n",
    "Crie uma variável chamada \"horario\" e atribua um valor inteiro\n",
    "representando a hora do dia (em formato 24 horas). Verifique se o horário está dentro\n",
    "do período da manhã (das 6h às 12h), da tarde (das 12h às 18h) ou da noite (das 18h\n",
    "às 23h) e imprima a mensagem correspondente."
   ]
  },
  {
   "cell_type": "code",
   "execution_count": null,
   "id": "98f0b249",
   "metadata": {},
   "outputs": [],
   "source": [
    "hora = input('Digite um horário: ')\n",
    "\n",
    "hora = int(hora)\n",
    "\n",
    "if hora >= 6 and hora < 12:\n",
    "    print('Manhã')\n",
    "elif hora >= 12 and hora <= 18:\n",
    "    print('Tarde')\n",
    "else:\n",
    "    print ('Noite')\n",
    "    "
   ]
  },
  {
   "cell_type": "markdown",
   "id": "c29ffb70",
   "metadata": {},
   "source": [
    "## Exercício 07 \n",
    "\n",
    "Crie uma variável chamada \"peso\" e atribua um valor numérico a ela.\n",
    "Verifique se o peso está dentro do intervalo de 50 a 100 (inclusive) e imprima a\n",
    "mensagem \"Peso válido\" ou \"Peso inválido\" de acordo com a condição."
   ]
  },
  {
   "cell_type": "code",
   "execution_count": null,
   "id": "2553593e",
   "metadata": {},
   "outputs": [],
   "source": [
    "peso = input ('Digite seu peso: ')\n",
    "peso = float(peso)\n",
    "\n",
    "if peso >=50 and peso <= 100:\n",
    "    print('Peso válido')\n",
    "else:\n",
    "    print('Peso inválido')"
   ]
  },
  {
   "cell_type": "markdown",
   "id": "7667e239",
   "metadata": {},
   "source": [
    "## Exercício 08 \n",
    "\n",
    "Crie uma variável chamada \"numero\" e atribua um valor inteiro a ela.\n",
    "Verifique se o número é múltiplo de 3 e de 5 ao mesmo tempo e imprima a mensagem\n",
    "correspondente."
   ]
  },
  {
   "cell_type": "code",
   "execution_count": null,
   "id": "f5be8762",
   "metadata": {},
   "outputs": [],
   "source": [
    "num = input('Digite um número: ')\n",
    "num = int(num)\n",
    "\n",
    "if (num % 3) == 0 and (num % 5) == 0:\n",
    "    print('Número Válido')\n",
    "else:\n",
    "    print('Número Inválido')"
   ]
  },
  {
   "cell_type": "markdown",
   "id": "c6bdca18",
   "metadata": {},
   "source": [
    "## Exercício 09\n",
    "\n",
    "Crie uma variável chamada \"ano\" e atribua um valor inteiro\n",
    "representando um ano. Verifique se o ano é bissexto (divisível por 4, mas não por 100,\n",
    "exceto se for divisível por 400) e imprima a mensagem correspondente."
   ]
  },
  {
   "cell_type": "code",
   "execution_count": null,
   "id": "7722731a",
   "metadata": {},
   "outputs": [],
   "source": []
  },
  {
   "cell_type": "markdown",
   "id": "c677d886",
   "metadata": {},
   "source": [
    "## Exercício 10 \n",
    "\n",
    "Crie uma variável chamada \"salario\" e atribua um valor numérico a ela.\n",
    "Verifique se o salário é maior do que 1000 e menor do que 2000 ao mesmo tempo e\n",
    "imprima a mensagem correspondente."
   ]
  },
  {
   "cell_type": "code",
   "execution_count": null,
   "id": "7e730315",
   "metadata": {},
   "outputs": [],
   "source": [
    "salario = input('Digite seu salario: ')\n",
    "salario = int(salario)\n",
    "\n",
    "if salario >=1000 and salario <=2000:\n",
    "    print('Salario Válido')\n",
    "else:\n",
    "    print('Salario Inválido')\n",
    "    \n",
    "    "
   ]
  },
  {
   "cell_type": "markdown",
   "id": "913be8d2",
   "metadata": {},
   "source": [
    "## Exercício 11 \n",
    "\n",
    "Faça um Programa que peça dois números e imprima o maior deles.\n"
   ]
  },
  {
   "cell_type": "code",
   "execution_count": 6,
   "id": "23ee5a50",
   "metadata": {},
   "outputs": [
    {
     "name": "stdout",
     "output_type": "stream",
     "text": [
      "Digite o primeiro número: 3\n",
      "Digite o segundo número: 2\n",
      " O maior valor é o 3 e o menor valor é o 2\n"
     ]
    }
   ],
   "source": [
    "num_1 = input('Digite o primeiro número: ')\n",
    "num_2 = input('Digite o segundo número: ')\n",
    "\n",
    "num_1 = int(num_1)\n",
    "num_2 = int(num_2)\n",
    "\n",
    "if num_1 > num_2:\n",
    "    print (f' O maior valor é o {num_1} e o menor valor é o {num_2}')\n",
    "else:\n",
    "    print (f' O maior valor é o {num_2} e o menor valor é o {num_1}')"
   ]
  },
  {
   "cell_type": "markdown",
   "id": "6535d37d",
   "metadata": {},
   "source": [
    "## Exercício 16  \n",
    "\n",
    "Faça um Programa que leia três números e mostre o maior deles.\n"
   ]
  },
  {
   "cell_type": "code",
   "execution_count": 11,
   "id": "3c4e12ea",
   "metadata": {},
   "outputs": [
    {
     "name": "stdout",
     "output_type": "stream",
     "text": [
      "Digite o primeiro número 2\n",
      "Digite o segundo número 5\n",
      "Digite o terceiro número 6\n",
      "O maior valor é 6\n"
     ]
    }
   ],
   "source": [
    "num_1 = input('Digite o primeiro número ')\n",
    "num_2 = input('Digite o segundo número ')\n",
    "num_3 = input('Digite o terceiro número ')\n",
    "\n",
    "num_1 = int(num_1)\n",
    "num_2 = int(num_2)\n",
    "num_3 = int(num_3)\n",
    "\n",
    "if num_1 > num_2 and num_1 > num_3:\n",
    "    print(f'O maior valor é {num_1}')\n",
    "\n",
    "elif num_2 > num_1 and num_2 > num_3:\n",
    "    print(f'O maior valor é {num_2}')\n",
    "    \n",
    "else:\n",
    "    print(f'O maior valor é {num_3}')\n",
    "          "
   ]
  },
  {
   "cell_type": "markdown",
   "id": "932ebe17",
   "metadata": {},
   "source": [
    "## Exercício 17 \n",
    "\n",
    "Faça um Programa que leia três números e mostre o maior e o menor \n"
   ]
  },
  {
   "cell_type": "code",
   "execution_count": null,
   "id": "3da28cb1",
   "metadata": {},
   "outputs": [],
   "source": [
    "num_1 = input('Digite o primeiro número')\n",
    "num_2 = input('Digite o segundo número')\n",
    "num_3 = imput('Digite o terceiro número')\n"
   ]
  }
 ],
 "metadata": {
  "kernelspec": {
   "display_name": "Python 3 (ipykernel)",
   "language": "python",
   "name": "python3"
  },
  "language_info": {
   "codemirror_mode": {
    "name": "ipython",
    "version": 3
   },
   "file_extension": ".py",
   "mimetype": "text/x-python",
   "name": "python",
   "nbconvert_exporter": "python",
   "pygments_lexer": "ipython3",
   "version": "3.10.9"
  }
 },
 "nbformat": 4,
 "nbformat_minor": 5
}
