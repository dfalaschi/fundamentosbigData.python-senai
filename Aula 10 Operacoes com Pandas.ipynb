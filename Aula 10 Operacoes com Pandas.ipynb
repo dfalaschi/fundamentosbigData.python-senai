{
 "cells": [
  {
   "cell_type": "markdown",
   "metadata": {},
   "source": [
    "### Exercício 01 – Operações com Pandas\n",
    "\n",
    "a) Abra o arquivo World Happiness.\n",
    "\n"
   ]
  },
  {
   "cell_type": "code",
   "execution_count": 66,
   "metadata": {},
   "outputs": [
    {
     "data": {
      "text/html": [
       "<div>\n",
       "<style scoped>\n",
       "    .dataframe tbody tr th:only-of-type {\n",
       "        vertical-align: middle;\n",
       "    }\n",
       "\n",
       "    .dataframe tbody tr th {\n",
       "        vertical-align: top;\n",
       "    }\n",
       "\n",
       "    .dataframe thead th {\n",
       "        text-align: right;\n",
       "    }\n",
       "</style>\n",
       "<table border=\"1\" class=\"dataframe\">\n",
       "  <thead>\n",
       "    <tr style=\"text-align: right;\">\n",
       "      <th></th>\n",
       "      <th>country</th>\n",
       "      <th>region</th>\n",
       "      <th>happiness rank</th>\n",
       "      <th>happiness score</th>\n",
       "      <th>standard error</th>\n",
       "      <th>economy (GDP per Capita)</th>\n",
       "      <th>family</th>\n",
       "      <th>health (Life Expectancy)</th>\n",
       "      <th>freedom</th>\n",
       "      <th>trust (Government Corruption)</th>\n",
       "      <th>generosity</th>\n",
       "      <th>dystopia residual</th>\n",
       "    </tr>\n",
       "  </thead>\n",
       "  <tbody>\n",
       "    <tr>\n",
       "      <th>0</th>\n",
       "      <td>Switzerland</td>\n",
       "      <td>Western Europe</td>\n",
       "      <td>1</td>\n",
       "      <td>7.587</td>\n",
       "      <td>0.03411</td>\n",
       "      <td>1.39651</td>\n",
       "      <td>1.34951</td>\n",
       "      <td>0.94143</td>\n",
       "      <td>0.66557</td>\n",
       "      <td>0.41978</td>\n",
       "      <td>0.29678</td>\n",
       "      <td>2.51738</td>\n",
       "    </tr>\n",
       "    <tr>\n",
       "      <th>1</th>\n",
       "      <td>Iceland</td>\n",
       "      <td>Western Europe</td>\n",
       "      <td>2</td>\n",
       "      <td>7.561</td>\n",
       "      <td>0.04884</td>\n",
       "      <td>1.30232</td>\n",
       "      <td>1.40223</td>\n",
       "      <td>0.94784</td>\n",
       "      <td>0.62877</td>\n",
       "      <td>0.14145</td>\n",
       "      <td>0.43630</td>\n",
       "      <td>2.70201</td>\n",
       "    </tr>\n",
       "    <tr>\n",
       "      <th>2</th>\n",
       "      <td>Denmark</td>\n",
       "      <td>Western Europe</td>\n",
       "      <td>3</td>\n",
       "      <td>7.527</td>\n",
       "      <td>0.03328</td>\n",
       "      <td>1.32548</td>\n",
       "      <td>1.36058</td>\n",
       "      <td>0.87464</td>\n",
       "      <td>0.64938</td>\n",
       "      <td>0.48357</td>\n",
       "      <td>0.34139</td>\n",
       "      <td>2.49204</td>\n",
       "    </tr>\n",
       "    <tr>\n",
       "      <th>3</th>\n",
       "      <td>Norway</td>\n",
       "      <td>Western Europe</td>\n",
       "      <td>4</td>\n",
       "      <td>7.522</td>\n",
       "      <td>0.03880</td>\n",
       "      <td>1.45900</td>\n",
       "      <td>1.33095</td>\n",
       "      <td>0.88521</td>\n",
       "      <td>0.66973</td>\n",
       "      <td>0.36503</td>\n",
       "      <td>0.34699</td>\n",
       "      <td>2.46531</td>\n",
       "    </tr>\n",
       "    <tr>\n",
       "      <th>4</th>\n",
       "      <td>Canada</td>\n",
       "      <td>North America</td>\n",
       "      <td>5</td>\n",
       "      <td>7.427</td>\n",
       "      <td>0.03553</td>\n",
       "      <td>1.32629</td>\n",
       "      <td>1.32261</td>\n",
       "      <td>0.90563</td>\n",
       "      <td>0.63297</td>\n",
       "      <td>0.32957</td>\n",
       "      <td>0.45811</td>\n",
       "      <td>2.45176</td>\n",
       "    </tr>\n",
       "  </tbody>\n",
       "</table>\n",
       "</div>"
      ],
      "text/plain": [
       "       country          region  happiness rank  happiness score  \\\n",
       "0  Switzerland  Western Europe               1            7.587   \n",
       "1      Iceland  Western Europe               2            7.561   \n",
       "2      Denmark  Western Europe               3            7.527   \n",
       "3       Norway  Western Europe               4            7.522   \n",
       "4       Canada   North America               5            7.427   \n",
       "\n",
       "   standard error  economy (GDP per Capita)   family  \\\n",
       "0         0.03411                   1.39651  1.34951   \n",
       "1         0.04884                   1.30232  1.40223   \n",
       "2         0.03328                   1.32548  1.36058   \n",
       "3         0.03880                   1.45900  1.33095   \n",
       "4         0.03553                   1.32629  1.32261   \n",
       "\n",
       "   health (Life Expectancy)  freedom  trust (Government Corruption)  \\\n",
       "0                   0.94143  0.66557                        0.41978   \n",
       "1                   0.94784  0.62877                        0.14145   \n",
       "2                   0.87464  0.64938                        0.48357   \n",
       "3                   0.88521  0.66973                        0.36503   \n",
       "4                   0.90563  0.63297                        0.32957   \n",
       "\n",
       "   generosity  dystopia residual  \n",
       "0     0.29678            2.51738  \n",
       "1     0.43630            2.70201  \n",
       "2     0.34139            2.49204  \n",
       "3     0.34699            2.46531  \n",
       "4     0.45811            2.45176  "
      ]
     },
     "execution_count": 66,
     "metadata": {},
     "output_type": "execute_result"
    }
   ],
   "source": [
    "import pandas as pd\n",
    "\n",
    "path = 'C:\\\\Users\\\\FIC\\\\Documents\\\\david_python\\\\'\n",
    "file = 'world_happiness_report_2015.csv'\n",
    "\n",
    "df = pd.read_csv(caminho + arquivo)\n",
    "\n",
    "df.head()"
   ]
  },
  {
   "cell_type": "markdown",
   "metadata": {},
   "source": [
    "b) Qual a média do score_felicidade?"
   ]
  },
  {
   "cell_type": "code",
   "execution_count": 30,
   "metadata": {},
   "outputs": [
    {
     "name": "stdout",
     "output_type": "stream",
     "text": [
      "A média da coluna Happiness score é:  5.42\n"
     ]
    }
   ],
   "source": [
    "# Media score_felicidade\n",
    "\n",
    "media = df['happiness score'].mean()\n",
    "\n",
    "media = round(media, 2)\n",
    "\n",
    "print('A média da coluna Happiness score é: ', media)"
   ]
  },
  {
   "cell_type": "markdown",
   "metadata": {},
   "source": [
    "c) Qual a soma do PIB?"
   ]
  },
  {
   "cell_type": "code",
   "execution_count": 31,
   "metadata": {},
   "outputs": [
    {
     "name": "stdout",
     "output_type": "stream",
     "text": [
      "A soma do PIB é:  141.37\n"
     ]
    }
   ],
   "source": [
    "# Soma do PIB\n",
    "\n",
    "pib = df['economy (GDP per Capita)'].sum()\n",
    "\n",
    "pib = round(pib,2)\n",
    "\n",
    "print('A soma do PIB é: ', pib)"
   ]
  },
  {
   "cell_type": "markdown",
   "metadata": {},
   "source": [
    "d) Qual a soma do freedom e corrupção?"
   ]
  },
  {
   "cell_type": "code",
   "execution_count": 32,
   "metadata": {},
   "outputs": [
    {
     "name": "stdout",
     "output_type": "stream",
     "text": [
      "A soma da coluna Freedom é:  71.33\n"
     ]
    }
   ],
   "source": [
    "# Soma da Freedom\n",
    "\n",
    "freedom =df['freedom'].sum()\n",
    "\n",
    "freedom = round(freedom,2)\n",
    "\n",
    "print('A soma da coluna Freedom é: ', freedom)"
   ]
  },
  {
   "cell_type": "code",
   "execution_count": 33,
   "metadata": {},
   "outputs": [
    {
     "data": {
      "text/plain": [
       "24.596449999999997"
      ]
     },
     "execution_count": 33,
     "metadata": {},
     "output_type": "execute_result"
    }
   ],
   "source": [
    "# Soma de Corrupção\n",
    "\n",
    "df['trust (Government Corruption)'].sum()"
   ]
  },
  {
   "cell_type": "markdown",
   "metadata": {},
   "source": [
    "e) Há dados duplicados? Quantos? Verifique quais são eles?"
   ]
  },
  {
   "cell_type": "code",
   "execution_count": 34,
   "metadata": {},
   "outputs": [
    {
     "data": {
      "text/plain": [
       "6"
      ]
     },
     "execution_count": 34,
     "metadata": {},
     "output_type": "execute_result"
    }
   ],
   "source": [
    "# Verificação de dados duplicados \n",
    "\n",
    "df.duplicated().sum()\n"
   ]
  },
  {
   "cell_type": "code",
   "execution_count": 39,
   "metadata": {},
   "outputs": [
    {
     "data": {
      "text/html": [
       "<div>\n",
       "<style scoped>\n",
       "    .dataframe tbody tr th:only-of-type {\n",
       "        vertical-align: middle;\n",
       "    }\n",
       "\n",
       "    .dataframe tbody tr th {\n",
       "        vertical-align: top;\n",
       "    }\n",
       "\n",
       "    .dataframe thead th {\n",
       "        text-align: right;\n",
       "    }\n",
       "</style>\n",
       "<table border=\"1\" class=\"dataframe\">\n",
       "  <thead>\n",
       "    <tr style=\"text-align: right;\">\n",
       "      <th></th>\n",
       "      <th>country</th>\n",
       "      <th>region</th>\n",
       "      <th>happiness rank</th>\n",
       "      <th>happiness score</th>\n",
       "      <th>standard error</th>\n",
       "      <th>economy (GDP per Capita)</th>\n",
       "      <th>family</th>\n",
       "      <th>health (Life Expectancy)</th>\n",
       "      <th>freedom</th>\n",
       "      <th>trust (Government Corruption)</th>\n",
       "      <th>generosity</th>\n",
       "      <th>dystopia residual</th>\n",
       "    </tr>\n",
       "  </thead>\n",
       "  <tbody>\n",
       "    <tr>\n",
       "      <th>11</th>\n",
       "      <td>Canada</td>\n",
       "      <td>North America</td>\n",
       "      <td>5</td>\n",
       "      <td>7.427</td>\n",
       "      <td>0.03553</td>\n",
       "      <td>1.32629</td>\n",
       "      <td>1.32261</td>\n",
       "      <td>0.90563</td>\n",
       "      <td>0.63297</td>\n",
       "      <td>0.32957</td>\n",
       "      <td>0.45811</td>\n",
       "      <td>2.45176</td>\n",
       "    </tr>\n",
       "    <tr>\n",
       "      <th>12</th>\n",
       "      <td>Finland</td>\n",
       "      <td>Western Europe</td>\n",
       "      <td>6</td>\n",
       "      <td>7.406</td>\n",
       "      <td>0.03140</td>\n",
       "      <td>1.29025</td>\n",
       "      <td>1.31826</td>\n",
       "      <td>0.88911</td>\n",
       "      <td>0.64169</td>\n",
       "      <td>0.41372</td>\n",
       "      <td>0.23351</td>\n",
       "      <td>2.61955</td>\n",
       "    </tr>\n",
       "    <tr>\n",
       "      <th>13</th>\n",
       "      <td>Netherlands</td>\n",
       "      <td>Western Europe</td>\n",
       "      <td>7</td>\n",
       "      <td>7.378</td>\n",
       "      <td>0.02799</td>\n",
       "      <td>1.32944</td>\n",
       "      <td>1.28017</td>\n",
       "      <td>0.89284</td>\n",
       "      <td>0.61576</td>\n",
       "      <td>0.31814</td>\n",
       "      <td>0.47610</td>\n",
       "      <td>2.46570</td>\n",
       "    </tr>\n",
       "    <tr>\n",
       "      <th>14</th>\n",
       "      <td>Sweden</td>\n",
       "      <td>Western Europe</td>\n",
       "      <td>8</td>\n",
       "      <td>7.364</td>\n",
       "      <td>0.03157</td>\n",
       "      <td>1.33171</td>\n",
       "      <td>1.28907</td>\n",
       "      <td>0.91087</td>\n",
       "      <td>0.65980</td>\n",
       "      <td>0.43844</td>\n",
       "      <td>0.36262</td>\n",
       "      <td>2.37119</td>\n",
       "    </tr>\n",
       "    <tr>\n",
       "      <th>34</th>\n",
       "      <td>Oman</td>\n",
       "      <td>Middle East and Northern Africa</td>\n",
       "      <td>22</td>\n",
       "      <td>6.853</td>\n",
       "      <td>0.05335</td>\n",
       "      <td>1.36011</td>\n",
       "      <td>1.08182</td>\n",
       "      <td>0.76276</td>\n",
       "      <td>0.63274</td>\n",
       "      <td>0.32524</td>\n",
       "      <td>0.21542</td>\n",
       "      <td>2.47489</td>\n",
       "    </tr>\n",
       "    <tr>\n",
       "      <th>35</th>\n",
       "      <td>Venezuela</td>\n",
       "      <td>Latin America and Caribbean</td>\n",
       "      <td>23</td>\n",
       "      <td>6.810</td>\n",
       "      <td>0.06476</td>\n",
       "      <td>1.04424</td>\n",
       "      <td>1.25596</td>\n",
       "      <td>0.72052</td>\n",
       "      <td>0.42908</td>\n",
       "      <td>0.11069</td>\n",
       "      <td>0.05841</td>\n",
       "      <td>3.19131</td>\n",
       "    </tr>\n",
       "  </tbody>\n",
       "</table>\n",
       "</div>"
      ],
      "text/plain": [
       "        country                           region  happiness rank  \\\n",
       "11       Canada                    North America               5   \n",
       "12      Finland                   Western Europe               6   \n",
       "13  Netherlands                   Western Europe               7   \n",
       "14       Sweden                   Western Europe               8   \n",
       "34         Oman  Middle East and Northern Africa              22   \n",
       "35    Venezuela      Latin America and Caribbean              23   \n",
       "\n",
       "    happiness score  standard error  economy (GDP per Capita)   family  \\\n",
       "11            7.427         0.03553                   1.32629  1.32261   \n",
       "12            7.406         0.03140                   1.29025  1.31826   \n",
       "13            7.378         0.02799                   1.32944  1.28017   \n",
       "14            7.364         0.03157                   1.33171  1.28907   \n",
       "34            6.853         0.05335                   1.36011  1.08182   \n",
       "35            6.810         0.06476                   1.04424  1.25596   \n",
       "\n",
       "    health (Life Expectancy)  freedom  trust (Government Corruption)  \\\n",
       "11                   0.90563  0.63297                        0.32957   \n",
       "12                   0.88911  0.64169                        0.41372   \n",
       "13                   0.89284  0.61576                        0.31814   \n",
       "14                   0.91087  0.65980                        0.43844   \n",
       "34                   0.76276  0.63274                        0.32524   \n",
       "35                   0.72052  0.42908                        0.11069   \n",
       "\n",
       "    generosity  dystopia residual  \n",
       "11     0.45811            2.45176  \n",
       "12     0.23351            2.61955  \n",
       "13     0.47610            2.46570  \n",
       "14     0.36262            2.37119  \n",
       "34     0.21542            2.47489  \n",
       "35     0.05841            3.19131  "
      ]
     },
     "execution_count": 39,
     "metadata": {},
     "output_type": "execute_result"
    }
   ],
   "source": [
    "# Dados duplicados\n",
    "\n",
    "df.loc[df.duplicated() == True]"
   ]
  },
  {
   "cell_type": "markdown",
   "metadata": {},
   "source": [
    "f) Verifique a quantidade de dados faltantes."
   ]
  },
  {
   "cell_type": "code",
   "execution_count": 36,
   "metadata": {},
   "outputs": [
    {
     "data": {
      "text/plain": [
       "country                           0\n",
       "region                            0\n",
       "happiness rank                    0\n",
       "happiness score                   8\n",
       "standard error                    1\n",
       "economy (GDP per Capita)          0\n",
       "family                            0\n",
       "health (Life Expectancy)          0\n",
       "freedom                           0\n",
       "trust (Government Corruption)     0\n",
       "generosity                        0\n",
       "dystopia residual                14\n",
       "dtype: int64"
      ]
     },
     "execution_count": 36,
     "metadata": {},
     "output_type": "execute_result"
    }
   ],
   "source": [
    "df.isnull().sum()"
   ]
  },
  {
   "cell_type": "markdown",
   "metadata": {},
   "source": [
    "g) Crie um dataframe onde os valores faltantes de score_felicidade sejam\n",
    "substituídos por -9999."
   ]
  },
  {
   "cell_type": "code",
   "execution_count": 42,
   "metadata": {},
   "outputs": [
    {
     "data": {
      "text/plain": [
       "country                           0\n",
       "region                            0\n",
       "happiness rank                    0\n",
       "happiness score                   0\n",
       "standard error                    1\n",
       "economy (GDP per Capita)          0\n",
       "family                            0\n",
       "health (Life Expectancy)          0\n",
       "freedom                           0\n",
       "trust (Government Corruption)     0\n",
       "generosity                        0\n",
       "dystopia residual                14\n",
       "dtype: int64"
      ]
     },
     "execution_count": 42,
     "metadata": {},
     "output_type": "execute_result"
    }
   ],
   "source": [
    "# O comando df.loc está selecionando todas as linhas (:) da coluna happiness score e então os nulos são substituidos por -9999\n",
    "\n",
    "df.loc[:,['happiness score']] = df.loc[:,['happiness score']].fillna(-9999)\n",
    "\n",
    "df.isnull().sum()"
   ]
  },
  {
   "cell_type": "markdown",
   "metadata": {},
   "source": [
    "h) Quantas e quais são as regiões existentes nos dados?"
   ]
  },
  {
   "cell_type": "code",
   "execution_count": 45,
   "metadata": {},
   "outputs": [
    {
     "data": {
      "text/plain": [
       "154"
      ]
     },
     "execution_count": 45,
     "metadata": {},
     "output_type": "execute_result"
    }
   ],
   "source": [
    "# Calcula a quantidade de registros duplicados\n",
    "\n",
    "df.region.duplicated().sum()"
   ]
  },
  {
   "cell_type": "code",
   "execution_count": 46,
   "metadata": {},
   "outputs": [],
   "source": [
    "# Remove as duplicadas e isere em um novo dataframe\n",
    "\n",
    "df_region = df.region.drop_duplicates()"
   ]
  },
  {
   "cell_type": "code",
   "execution_count": 47,
   "metadata": {},
   "outputs": [
    {
     "data": {
      "text/plain": [
       "10"
      ]
     },
     "execution_count": 47,
     "metadata": {},
     "output_type": "execute_result"
    }
   ],
   "source": [
    "# Calcular a quantidade de regioes únicas\n",
    "df_region.count()"
   ]
  },
  {
   "cell_type": "code",
   "execution_count": 48,
   "metadata": {},
   "outputs": [
    {
     "data": {
      "text/plain": [
       "0                      Western Europe\n",
       "4                       North America\n",
       "8           Australia and New Zealand\n",
       "10    Middle East and Northern Africa\n",
       "15        Latin America and Caribbean\n",
       "27                  Southeastern Asia\n",
       "36         Central and Eastern Europe\n",
       "43                       Eastern Asia\n",
       "76                 Sub-Saharan Africa\n",
       "84                      Southern Asia\n",
       "Name: region, dtype: object"
      ]
     },
     "execution_count": 48,
     "metadata": {},
     "output_type": "execute_result"
    }
   ],
   "source": [
    "# Quais são as regioes únicas\n",
    "\n",
    "df_region"
   ]
  },
  {
   "cell_type": "code",
   "execution_count": 49,
   "metadata": {},
   "outputs": [
    {
     "data": {
      "text/plain": [
       "region\n",
       "Sub-Saharan Africa                 40\n",
       "Central and Eastern Europe         29\n",
       "Western Europe                     24\n",
       "Latin America and Caribbean        23\n",
       "Middle East and Northern Africa    21\n",
       "Southeastern Asia                   9\n",
       "Southern Asia                       7\n",
       "Eastern Asia                        6\n",
       "North America                       3\n",
       "Australia and New Zealand           2\n",
       "Name: count, dtype: int64"
      ]
     },
     "execution_count": 49,
     "metadata": {},
     "output_type": "execute_result"
    }
   ],
   "source": [
    "# Frequencia que cada regiao aparece\n",
    "df.region.value_counts()"
   ]
  },
  {
   "cell_type": "markdown",
   "metadata": {},
   "source": [
    "### Unir amostras de dados"
   ]
  },
  {
   "cell_type": "code",
   "execution_count": 57,
   "metadata": {},
   "outputs": [],
   "source": [
    "# ---------------------------------------------------------- Dataframe 01 - Exemplo\n",
    "\n",
    "dados = {\n",
    "\n",
    "    'ID': ['1','2','3','4','5'],\n",
    "    'nome': ['Ana','Barbara','Douglas','Lourenzo','Enzo'],\n",
    "    'sobrenome': ['Silva', 'Mourão', 'Souza', 'Lopes', 'Mendes']\n",
    "}\n",
    "\n",
    "# Converter o dicionário em dataframe\n",
    "df_1 = pd.DataFrame(dados, columns=['ID','nome','sobrenome'])\n",
    "\n",
    "\n",
    "#---------------------------------------------------------------- Dataframe 02 - Exemplo\n",
    "\n",
    "dados2 = {\n",
    "\n",
    "    'ID': ['6','7','8','9','10'],\n",
    "    'nome': ['Eder','Lucas','Joana','Paulo','Bete'],\n",
    "    'sobrenome': ['Junqueira', 'Tarrou', 'Liza', 'Oshio', 'Yuho']\n",
    "\n",
    "}\n",
    "\n",
    "df_2 = pd.DataFrame(dados2,columns=['ID','nome','sobrenome'])\n",
    "\n",
    "notas = {\n",
    "\n",
    "    'ID': ['1','2','3','4','5','6','7','8','9','10'],\n",
    "    'notas_id': [51,55,15,61,84,96,100,0,78,12]\n",
    "\n",
    "}\n",
    "\n",
    "#---------------------------------------------------------------- Dataframe 03 - Exemplo\n",
    "\n",
    "df_notas = pd.DataFrame(notas,columns=['ID','notas_id'])"
   ]
  },
  {
   "cell_type": "code",
   "execution_count": 58,
   "metadata": {},
   "outputs": [
    {
     "data": {
      "text/html": [
       "<div>\n",
       "<style scoped>\n",
       "    .dataframe tbody tr th:only-of-type {\n",
       "        vertical-align: middle;\n",
       "    }\n",
       "\n",
       "    .dataframe tbody tr th {\n",
       "        vertical-align: top;\n",
       "    }\n",
       "\n",
       "    .dataframe thead th {\n",
       "        text-align: right;\n",
       "    }\n",
       "</style>\n",
       "<table border=\"1\" class=\"dataframe\">\n",
       "  <thead>\n",
       "    <tr style=\"text-align: right;\">\n",
       "      <th></th>\n",
       "      <th>ID</th>\n",
       "      <th>nome</th>\n",
       "      <th>sobrenome</th>\n",
       "    </tr>\n",
       "  </thead>\n",
       "  <tbody>\n",
       "    <tr>\n",
       "      <th>0</th>\n",
       "      <td>1</td>\n",
       "      <td>Ana</td>\n",
       "      <td>Silva</td>\n",
       "    </tr>\n",
       "    <tr>\n",
       "      <th>1</th>\n",
       "      <td>2</td>\n",
       "      <td>Barbara</td>\n",
       "      <td>Mourão</td>\n",
       "    </tr>\n",
       "    <tr>\n",
       "      <th>2</th>\n",
       "      <td>3</td>\n",
       "      <td>Douglas</td>\n",
       "      <td>Souza</td>\n",
       "    </tr>\n",
       "    <tr>\n",
       "      <th>3</th>\n",
       "      <td>4</td>\n",
       "      <td>Lourenzo</td>\n",
       "      <td>Lopes</td>\n",
       "    </tr>\n",
       "    <tr>\n",
       "      <th>4</th>\n",
       "      <td>5</td>\n",
       "      <td>Enzo</td>\n",
       "      <td>Mendes</td>\n",
       "    </tr>\n",
       "  </tbody>\n",
       "</table>\n",
       "</div>"
      ],
      "text/plain": [
       "  ID      nome sobrenome\n",
       "0  1       Ana     Silva\n",
       "1  2   Barbara    Mourão\n",
       "2  3   Douglas     Souza\n",
       "3  4  Lourenzo     Lopes\n",
       "4  5      Enzo    Mendes"
      ]
     },
     "execution_count": 58,
     "metadata": {},
     "output_type": "execute_result"
    }
   ],
   "source": [
    "#head dataframe 1\n",
    "\n",
    "df_1.head()"
   ]
  },
  {
   "cell_type": "code",
   "execution_count": 59,
   "metadata": {},
   "outputs": [
    {
     "data": {
      "text/html": [
       "<div>\n",
       "<style scoped>\n",
       "    .dataframe tbody tr th:only-of-type {\n",
       "        vertical-align: middle;\n",
       "    }\n",
       "\n",
       "    .dataframe tbody tr th {\n",
       "        vertical-align: top;\n",
       "    }\n",
       "\n",
       "    .dataframe thead th {\n",
       "        text-align: right;\n",
       "    }\n",
       "</style>\n",
       "<table border=\"1\" class=\"dataframe\">\n",
       "  <thead>\n",
       "    <tr style=\"text-align: right;\">\n",
       "      <th></th>\n",
       "      <th>ID</th>\n",
       "      <th>nome</th>\n",
       "      <th>sobrenome</th>\n",
       "    </tr>\n",
       "  </thead>\n",
       "  <tbody>\n",
       "    <tr>\n",
       "      <th>0</th>\n",
       "      <td>6</td>\n",
       "      <td>Eder</td>\n",
       "      <td>Junqueira</td>\n",
       "    </tr>\n",
       "    <tr>\n",
       "      <th>1</th>\n",
       "      <td>7</td>\n",
       "      <td>Lucas</td>\n",
       "      <td>Tarrou</td>\n",
       "    </tr>\n",
       "    <tr>\n",
       "      <th>2</th>\n",
       "      <td>8</td>\n",
       "      <td>Joana</td>\n",
       "      <td>Liza</td>\n",
       "    </tr>\n",
       "    <tr>\n",
       "      <th>3</th>\n",
       "      <td>9</td>\n",
       "      <td>Paulo</td>\n",
       "      <td>Oshio</td>\n",
       "    </tr>\n",
       "    <tr>\n",
       "      <th>4</th>\n",
       "      <td>10</td>\n",
       "      <td>Bete</td>\n",
       "      <td>Yuho</td>\n",
       "    </tr>\n",
       "  </tbody>\n",
       "</table>\n",
       "</div>"
      ],
      "text/plain": [
       "   ID   nome  sobrenome\n",
       "0   6   Eder  Junqueira\n",
       "1   7  Lucas     Tarrou\n",
       "2   8  Joana       Liza\n",
       "3   9  Paulo      Oshio\n",
       "4  10   Bete       Yuho"
      ]
     },
     "execution_count": 59,
     "metadata": {},
     "output_type": "execute_result"
    }
   ],
   "source": [
    "# head dataframe 2\n",
    "\n",
    "df_2.head()"
   ]
  },
  {
   "cell_type": "code",
   "execution_count": 62,
   "metadata": {},
   "outputs": [
    {
     "data": {
      "text/html": [
       "<div>\n",
       "<style scoped>\n",
       "    .dataframe tbody tr th:only-of-type {\n",
       "        vertical-align: middle;\n",
       "    }\n",
       "\n",
       "    .dataframe tbody tr th {\n",
       "        vertical-align: top;\n",
       "    }\n",
       "\n",
       "    .dataframe thead th {\n",
       "        text-align: right;\n",
       "    }\n",
       "</style>\n",
       "<table border=\"1\" class=\"dataframe\">\n",
       "  <thead>\n",
       "    <tr style=\"text-align: right;\">\n",
       "      <th></th>\n",
       "      <th>ID</th>\n",
       "      <th>notas_id</th>\n",
       "    </tr>\n",
       "  </thead>\n",
       "  <tbody>\n",
       "    <tr>\n",
       "      <th>0</th>\n",
       "      <td>1</td>\n",
       "      <td>51</td>\n",
       "    </tr>\n",
       "    <tr>\n",
       "      <th>1</th>\n",
       "      <td>2</td>\n",
       "      <td>55</td>\n",
       "    </tr>\n",
       "    <tr>\n",
       "      <th>2</th>\n",
       "      <td>3</td>\n",
       "      <td>15</td>\n",
       "    </tr>\n",
       "    <tr>\n",
       "      <th>3</th>\n",
       "      <td>4</td>\n",
       "      <td>61</td>\n",
       "    </tr>\n",
       "    <tr>\n",
       "      <th>4</th>\n",
       "      <td>5</td>\n",
       "      <td>84</td>\n",
       "    </tr>\n",
       "  </tbody>\n",
       "</table>\n",
       "</div>"
      ],
      "text/plain": [
       "  ID  notas_id\n",
       "0  1        51\n",
       "1  2        55\n",
       "2  3        15\n",
       "3  4        61\n",
       "4  5        84"
      ]
     },
     "execution_count": 62,
     "metadata": {},
     "output_type": "execute_result"
    }
   ],
   "source": [
    "# head dataframe 3\n",
    "\n",
    "df_notas.head()"
   ]
  },
  {
   "cell_type": "markdown",
   "metadata": {},
   "source": [
    "### Empilhar os dataframes 1 e 2"
   ]
  },
  {
   "cell_type": "code",
   "execution_count": 64,
   "metadata": {},
   "outputs": [
    {
     "data": {
      "text/html": [
       "<div>\n",
       "<style scoped>\n",
       "    .dataframe tbody tr th:only-of-type {\n",
       "        vertical-align: middle;\n",
       "    }\n",
       "\n",
       "    .dataframe tbody tr th {\n",
       "        vertical-align: top;\n",
       "    }\n",
       "\n",
       "    .dataframe thead th {\n",
       "        text-align: right;\n",
       "    }\n",
       "</style>\n",
       "<table border=\"1\" class=\"dataframe\">\n",
       "  <thead>\n",
       "    <tr style=\"text-align: right;\">\n",
       "      <th></th>\n",
       "      <th>ID</th>\n",
       "      <th>nome</th>\n",
       "      <th>sobrenome</th>\n",
       "    </tr>\n",
       "  </thead>\n",
       "  <tbody>\n",
       "    <tr>\n",
       "      <th>0</th>\n",
       "      <td>1</td>\n",
       "      <td>Ana</td>\n",
       "      <td>Silva</td>\n",
       "    </tr>\n",
       "    <tr>\n",
       "      <th>1</th>\n",
       "      <td>2</td>\n",
       "      <td>Barbara</td>\n",
       "      <td>Mourão</td>\n",
       "    </tr>\n",
       "    <tr>\n",
       "      <th>2</th>\n",
       "      <td>3</td>\n",
       "      <td>Douglas</td>\n",
       "      <td>Souza</td>\n",
       "    </tr>\n",
       "    <tr>\n",
       "      <th>3</th>\n",
       "      <td>4</td>\n",
       "      <td>Lourenzo</td>\n",
       "      <td>Lopes</td>\n",
       "    </tr>\n",
       "    <tr>\n",
       "      <th>4</th>\n",
       "      <td>5</td>\n",
       "      <td>Enzo</td>\n",
       "      <td>Mendes</td>\n",
       "    </tr>\n",
       "    <tr>\n",
       "      <th>5</th>\n",
       "      <td>6</td>\n",
       "      <td>Eder</td>\n",
       "      <td>Junqueira</td>\n",
       "    </tr>\n",
       "    <tr>\n",
       "      <th>6</th>\n",
       "      <td>7</td>\n",
       "      <td>Lucas</td>\n",
       "      <td>Tarrou</td>\n",
       "    </tr>\n",
       "    <tr>\n",
       "      <th>7</th>\n",
       "      <td>8</td>\n",
       "      <td>Joana</td>\n",
       "      <td>Liza</td>\n",
       "    </tr>\n",
       "    <tr>\n",
       "      <th>8</th>\n",
       "      <td>9</td>\n",
       "      <td>Paulo</td>\n",
       "      <td>Oshio</td>\n",
       "    </tr>\n",
       "    <tr>\n",
       "      <th>9</th>\n",
       "      <td>10</td>\n",
       "      <td>Bete</td>\n",
       "      <td>Yuho</td>\n",
       "    </tr>\n",
       "  </tbody>\n",
       "</table>\n",
       "</div>"
      ],
      "text/plain": [
       "   ID      nome  sobrenome\n",
       "0   1       Ana      Silva\n",
       "1   2   Barbara     Mourão\n",
       "2   3   Douglas      Souza\n",
       "3   4  Lourenzo      Lopes\n",
       "4   5      Enzo     Mendes\n",
       "5   6      Eder  Junqueira\n",
       "6   7     Lucas     Tarrou\n",
       "7   8     Joana       Liza\n",
       "8   9     Paulo      Oshio\n",
       "9  10      Bete       Yuho"
      ]
     },
     "execution_count": 64,
     "metadata": {},
     "output_type": "execute_result"
    }
   ],
   "source": [
    "df_1_2 = pd.concat([df_1,df_2],ignore_index=True)\n",
    "\n",
    "df_1_2"
   ]
  },
  {
   "cell_type": "markdown",
   "metadata": {},
   "source": [
    "### Realizar a associação do ID, nome, sobrenome, e notas (MERGE)"
   ]
  },
  {
   "cell_type": "code",
   "execution_count": 65,
   "metadata": {},
   "outputs": [
    {
     "data": {
      "text/html": [
       "<div>\n",
       "<style scoped>\n",
       "    .dataframe tbody tr th:only-of-type {\n",
       "        vertical-align: middle;\n",
       "    }\n",
       "\n",
       "    .dataframe tbody tr th {\n",
       "        vertical-align: top;\n",
       "    }\n",
       "\n",
       "    .dataframe thead th {\n",
       "        text-align: right;\n",
       "    }\n",
       "</style>\n",
       "<table border=\"1\" class=\"dataframe\">\n",
       "  <thead>\n",
       "    <tr style=\"text-align: right;\">\n",
       "      <th></th>\n",
       "      <th>ID</th>\n",
       "      <th>nome</th>\n",
       "      <th>sobrenome</th>\n",
       "      <th>notas_id</th>\n",
       "    </tr>\n",
       "  </thead>\n",
       "  <tbody>\n",
       "    <tr>\n",
       "      <th>0</th>\n",
       "      <td>1</td>\n",
       "      <td>Ana</td>\n",
       "      <td>Silva</td>\n",
       "      <td>51</td>\n",
       "    </tr>\n",
       "    <tr>\n",
       "      <th>1</th>\n",
       "      <td>2</td>\n",
       "      <td>Barbara</td>\n",
       "      <td>Mourão</td>\n",
       "      <td>55</td>\n",
       "    </tr>\n",
       "    <tr>\n",
       "      <th>2</th>\n",
       "      <td>3</td>\n",
       "      <td>Douglas</td>\n",
       "      <td>Souza</td>\n",
       "      <td>15</td>\n",
       "    </tr>\n",
       "    <tr>\n",
       "      <th>3</th>\n",
       "      <td>4</td>\n",
       "      <td>Lourenzo</td>\n",
       "      <td>Lopes</td>\n",
       "      <td>61</td>\n",
       "    </tr>\n",
       "    <tr>\n",
       "      <th>4</th>\n",
       "      <td>5</td>\n",
       "      <td>Enzo</td>\n",
       "      <td>Mendes</td>\n",
       "      <td>84</td>\n",
       "    </tr>\n",
       "    <tr>\n",
       "      <th>5</th>\n",
       "      <td>6</td>\n",
       "      <td>Eder</td>\n",
       "      <td>Junqueira</td>\n",
       "      <td>96</td>\n",
       "    </tr>\n",
       "    <tr>\n",
       "      <th>6</th>\n",
       "      <td>7</td>\n",
       "      <td>Lucas</td>\n",
       "      <td>Tarrou</td>\n",
       "      <td>100</td>\n",
       "    </tr>\n",
       "    <tr>\n",
       "      <th>7</th>\n",
       "      <td>8</td>\n",
       "      <td>Joana</td>\n",
       "      <td>Liza</td>\n",
       "      <td>0</td>\n",
       "    </tr>\n",
       "    <tr>\n",
       "      <th>8</th>\n",
       "      <td>9</td>\n",
       "      <td>Paulo</td>\n",
       "      <td>Oshio</td>\n",
       "      <td>78</td>\n",
       "    </tr>\n",
       "    <tr>\n",
       "      <th>9</th>\n",
       "      <td>10</td>\n",
       "      <td>Bete</td>\n",
       "      <td>Yuho</td>\n",
       "      <td>12</td>\n",
       "    </tr>\n",
       "  </tbody>\n",
       "</table>\n",
       "</div>"
      ],
      "text/plain": [
       "   ID      nome  sobrenome  notas_id\n",
       "0   1       Ana      Silva        51\n",
       "1   2   Barbara     Mourão        55\n",
       "2   3   Douglas      Souza        15\n",
       "3   4  Lourenzo      Lopes        61\n",
       "4   5      Enzo     Mendes        84\n",
       "5   6      Eder  Junqueira        96\n",
       "6   7     Lucas     Tarrou       100\n",
       "7   8     Joana       Liza         0\n",
       "8   9     Paulo      Oshio        78\n",
       "9  10      Bete       Yuho        12"
      ]
     },
     "execution_count": 65,
     "metadata": {},
     "output_type": "execute_result"
    }
   ],
   "source": [
    "df_final = pd.merge(df_1_2, df_notas, on=\"ID\", how='left')\n",
    "\n",
    "df_final"
   ]
  }
 ],
 "metadata": {
  "kernelspec": {
   "display_name": "Python 3",
   "language": "python",
   "name": "python3"
  },
  "language_info": {
   "codemirror_mode": {
    "name": "ipython",
    "version": 3
   },
   "file_extension": ".py",
   "mimetype": "text/x-python",
   "name": "python",
   "nbconvert_exporter": "python",
   "pygments_lexer": "ipython3",
   "version": "3.11.0"
  },
  "orig_nbformat": 4
 },
 "nbformat": 4,
 "nbformat_minor": 2
}
