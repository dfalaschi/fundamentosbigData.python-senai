{
 "cells": [
  {
   "cell_type": "code",
   "execution_count": 17,
   "metadata": {},
   "outputs": [],
   "source": [
    "import pandas as pd                 # Manipular os dados\n",
    "import os                           # Gerenciar arquivos no sistema operacional\n",
    "import matplotlib.pyplot as plt     # Biblioteca para geração de gráficos\n",
    "import seaborn as sns               # Biblioteca para gerar gráficos estilizados\n",
    "\n",
    "# Criar variável para armazenar o caminho do diretório com os arquivos\n",
    "dir_path = 'C:\\\\Users\\\\FIC\\\\Documents\\\\david_python\\\\Desafio 01 - Super Atacadista\\\\arquivos\\\\vendas\\\\'\n",
    "\n",
    "# Criar uma lista vazia para armazenar os caminhos completos\n",
    "res = []\n",
    "\n",
    "#\n",
    "for path in os.listdir(dir_path):\n",
    "    # Verificar se é um arquivo válido\n",
    "    if os.path.isfile(dir_path + path):\n",
    "        res.append(dir_path + path)\n",
    "\n",
    "# Criar um dataframe vazio\n",
    "file_combined = pd.DataFrame()\n",
    "\n",
    "# Estrutura para combinar os arquivos\n",
    "for file in res:\n",
    "    df1 = pd.read_excel(file)\n",
    "    file_combined = pd.concat([file_combined,df1])\n",
    "\n",
    "dir_final = 'C:\\\\Users\\\\FIC\\\\Documents\\\\david_python\\\\Desafio 01 - Super Atacadista\\\\arquivos\\\\'\n",
    "fileName = 'ArquivoCombinado.xlsx'\n",
    "\n",
    "file_combined.to_excel(dir_final + fileName)\n"
   ]
  },
  {
   "cell_type": "code",
   "execution_count": 18,
   "metadata": {},
   "outputs": [
    {
     "data": {
      "text/html": [
       "<div>\n",
       "<style scoped>\n",
       "    .dataframe tbody tr th:only-of-type {\n",
       "        vertical-align: middle;\n",
       "    }\n",
       "\n",
       "    .dataframe tbody tr th {\n",
       "        vertical-align: top;\n",
       "    }\n",
       "\n",
       "    .dataframe thead th {\n",
       "        text-align: right;\n",
       "    }\n",
       "</style>\n",
       "<table border=\"1\" class=\"dataframe\">\n",
       "  <thead>\n",
       "    <tr style=\"text-align: right;\">\n",
       "      <th></th>\n",
       "      <th>DataEmissao</th>\n",
       "      <th>DataVencimento</th>\n",
       "      <th>NFe</th>\n",
       "      <th>cdCliente</th>\n",
       "      <th>cdVendedor</th>\n",
       "      <th>cdProduto</th>\n",
       "      <th>QtdItens</th>\n",
       "      <th>ValorUnitario</th>\n",
       "      <th>Peso Líquido</th>\n",
       "    </tr>\n",
       "  </thead>\n",
       "  <tbody>\n",
       "    <tr>\n",
       "      <th>0</th>\n",
       "      <td>2017-01-12</td>\n",
       "      <td>2017-02-22</td>\n",
       "      <td>1492762</td>\n",
       "      <td>3140218</td>\n",
       "      <td>265</td>\n",
       "      <td>1073</td>\n",
       "      <td>6</td>\n",
       "      <td>8.83</td>\n",
       "      <td>0.60</td>\n",
       "    </tr>\n",
       "    <tr>\n",
       "      <th>1</th>\n",
       "      <td>2017-01-12</td>\n",
       "      <td>2017-02-22</td>\n",
       "      <td>1492762</td>\n",
       "      <td>3140218</td>\n",
       "      <td>265</td>\n",
       "      <td>1420</td>\n",
       "      <td>6</td>\n",
       "      <td>4.44</td>\n",
       "      <td>5.40</td>\n",
       "    </tr>\n",
       "    <tr>\n",
       "      <th>2</th>\n",
       "      <td>2017-01-12</td>\n",
       "      <td>2017-02-22</td>\n",
       "      <td>1492762</td>\n",
       "      <td>3140218</td>\n",
       "      <td>265</td>\n",
       "      <td>264</td>\n",
       "      <td>10</td>\n",
       "      <td>0.96</td>\n",
       "      <td>1.92</td>\n",
       "    </tr>\n",
       "    <tr>\n",
       "      <th>3</th>\n",
       "      <td>2017-01-13</td>\n",
       "      <td>2017-01-29</td>\n",
       "      <td>1492719</td>\n",
       "      <td>2983332</td>\n",
       "      <td>265</td>\n",
       "      <td>1154</td>\n",
       "      <td>6</td>\n",
       "      <td>2.92</td>\n",
       "      <td>1.26</td>\n",
       "    </tr>\n",
       "    <tr>\n",
       "      <th>4</th>\n",
       "      <td>2017-01-13</td>\n",
       "      <td>2017-01-29</td>\n",
       "      <td>1492719</td>\n",
       "      <td>2983332</td>\n",
       "      <td>265</td>\n",
       "      <td>1527</td>\n",
       "      <td>6</td>\n",
       "      <td>2.81</td>\n",
       "      <td>1.40</td>\n",
       "    </tr>\n",
       "  </tbody>\n",
       "</table>\n",
       "</div>"
      ],
      "text/plain": [
       "  DataEmissao DataVencimento      NFe  cdCliente  cdVendedor  cdProduto  \\\n",
       "0  2017-01-12     2017-02-22  1492762    3140218         265       1073   \n",
       "1  2017-01-12     2017-02-22  1492762    3140218         265       1420   \n",
       "2  2017-01-12     2017-02-22  1492762    3140218         265        264   \n",
       "3  2017-01-13     2017-01-29  1492719    2983332         265       1154   \n",
       "4  2017-01-13     2017-01-29  1492719    2983332         265       1527   \n",
       "\n",
       "   QtdItens  ValorUnitario  Peso Líquido  \n",
       "0         6           8.83          0.60  \n",
       "1         6           4.44          5.40  \n",
       "2        10           0.96          1.92  \n",
       "3         6           2.92          1.26  \n",
       "4         6           2.81          1.40  "
      ]
     },
     "execution_count": 18,
     "metadata": {},
     "output_type": "execute_result"
    }
   ],
   "source": [
    "# Tabela fato - Responsável por gerar os valores de análise\n",
    "file_combined.head()"
   ]
  },
  {
   "cell_type": "markdown",
   "metadata": {},
   "source": [
    "#### Importando as tabelas dimensões (DE-PARA)"
   ]
  },
  {
   "cell_type": "code",
   "execution_count": 19,
   "metadata": {},
   "outputs": [
    {
     "data": {
      "text/html": [
       "<div>\n",
       "<style scoped>\n",
       "    .dataframe tbody tr th:only-of-type {\n",
       "        vertical-align: middle;\n",
       "    }\n",
       "\n",
       "    .dataframe tbody tr th {\n",
       "        vertical-align: top;\n",
       "    }\n",
       "\n",
       "    .dataframe thead th {\n",
       "        text-align: right;\n",
       "    }\n",
       "</style>\n",
       "<table border=\"1\" class=\"dataframe\">\n",
       "  <thead>\n",
       "    <tr style=\"text-align: right;\">\n",
       "      <th></th>\n",
       "      <th>cdCliente</th>\n",
       "      <th>Razão Social</th>\n",
       "      <th>Status</th>\n",
       "      <th>Categoria</th>\n",
       "      <th>Cidade</th>\n",
       "      <th>UF</th>\n",
       "    </tr>\n",
       "  </thead>\n",
       "  <tbody>\n",
       "    <tr>\n",
       "      <th>0</th>\n",
       "      <td>1339104</td>\n",
       "      <td>Vinicius e Filipe Cantina ME</td>\n",
       "      <td>A</td>\n",
       "      <td>Cantinas</td>\n",
       "      <td>Curitiba</td>\n",
       "      <td>PR</td>\n",
       "    </tr>\n",
       "    <tr>\n",
       "      <th>1</th>\n",
       "      <td>1339740</td>\n",
       "      <td>Sandra e Cláudio Cantina Ltda</td>\n",
       "      <td>A</td>\n",
       "      <td>Cantinas</td>\n",
       "      <td>Curitiba</td>\n",
       "      <td>PR</td>\n",
       "    </tr>\n",
       "    <tr>\n",
       "      <th>2</th>\n",
       "      <td>1339884</td>\n",
       "      <td>Vera e Analu Cantina ME</td>\n",
       "      <td>A</td>\n",
       "      <td>Cantinas</td>\n",
       "      <td>Curitiba</td>\n",
       "      <td>PR</td>\n",
       "    </tr>\n",
       "    <tr>\n",
       "      <th>3</th>\n",
       "      <td>1340322</td>\n",
       "      <td>Emilly e Vitor Cantina Ltda</td>\n",
       "      <td>A</td>\n",
       "      <td>Cantinas</td>\n",
       "      <td>Curitiba</td>\n",
       "      <td>PR</td>\n",
       "    </tr>\n",
       "    <tr>\n",
       "      <th>4</th>\n",
       "      <td>4837795</td>\n",
       "      <td>Kaique e Rafaela Cantina ME</td>\n",
       "      <td>A</td>\n",
       "      <td>Cantinas</td>\n",
       "      <td>Curitiba</td>\n",
       "      <td>PR</td>\n",
       "    </tr>\n",
       "  </tbody>\n",
       "</table>\n",
       "</div>"
      ],
      "text/plain": [
       "   cdCliente                   Razão Social Status Categoria    Cidade  UF\n",
       "0    1339104   Vinicius e Filipe Cantina ME      A  Cantinas  Curitiba  PR\n",
       "1    1339740  Sandra e Cláudio Cantina Ltda      A  Cantinas  Curitiba  PR\n",
       "2    1339884        Vera e Analu Cantina ME      A  Cantinas  Curitiba  PR\n",
       "3    1340322    Emilly e Vitor Cantina Ltda      A  Cantinas  Curitiba  PR\n",
       "4    4837795    Kaique e Rafaela Cantina ME      A  Cantinas  Curitiba  PR"
      ]
     },
     "execution_count": 19,
     "metadata": {},
     "output_type": "execute_result"
    }
   ],
   "source": [
    "# Carregar a tabela Clientes\n",
    "\n",
    "path = 'C:\\\\Users\\\\FIC\\\\Documents\\\\david_python\\\\Desafio 01 - Super Atacadista\\\\arquivos\\\\'\n",
    "file = 'Dimensões.xlsx'\n",
    "\n",
    "dfClientes = pd.read_excel(path + file, sheet_name='Cliente')\n",
    "\n",
    "dfClientes.head()"
   ]
  },
  {
   "cell_type": "code",
   "execution_count": 20,
   "metadata": {},
   "outputs": [
    {
     "data": {
      "text/html": [
       "<div>\n",
       "<style scoped>\n",
       "    .dataframe tbody tr th:only-of-type {\n",
       "        vertical-align: middle;\n",
       "    }\n",
       "\n",
       "    .dataframe tbody tr th {\n",
       "        vertical-align: top;\n",
       "    }\n",
       "\n",
       "    .dataframe thead th {\n",
       "        text-align: right;\n",
       "    }\n",
       "</style>\n",
       "<table border=\"1\" class=\"dataframe\">\n",
       "  <thead>\n",
       "    <tr style=\"text-align: right;\">\n",
       "      <th></th>\n",
       "      <th>cdProduto</th>\n",
       "      <th>Descrição</th>\n",
       "      <th>cdGrupo</th>\n",
       "    </tr>\n",
       "  </thead>\n",
       "  <tbody>\n",
       "    <tr>\n",
       "      <th>0</th>\n",
       "      <td>1</td>\n",
       "      <td>Produto 1</td>\n",
       "      <td>9999</td>\n",
       "    </tr>\n",
       "    <tr>\n",
       "      <th>1</th>\n",
       "      <td>2</td>\n",
       "      <td>Produto 2</td>\n",
       "      <td>9999</td>\n",
       "    </tr>\n",
       "    <tr>\n",
       "      <th>2</th>\n",
       "      <td>3</td>\n",
       "      <td>Produto 3</td>\n",
       "      <td>9999</td>\n",
       "    </tr>\n",
       "    <tr>\n",
       "      <th>3</th>\n",
       "      <td>4</td>\n",
       "      <td>Produto 4</td>\n",
       "      <td>9999</td>\n",
       "    </tr>\n",
       "    <tr>\n",
       "      <th>4</th>\n",
       "      <td>5</td>\n",
       "      <td>Produto 5</td>\n",
       "      <td>9999</td>\n",
       "    </tr>\n",
       "  </tbody>\n",
       "</table>\n",
       "</div>"
      ],
      "text/plain": [
       "   cdProduto  Descrição  cdGrupo\n",
       "0          1  Produto 1     9999\n",
       "1          2  Produto 2     9999\n",
       "2          3  Produto 3     9999\n",
       "3          4  Produto 4     9999\n",
       "4          5  Produto 5     9999"
      ]
     },
     "execution_count": 20,
     "metadata": {},
     "output_type": "execute_result"
    }
   ],
   "source": [
    "# Carregar a tabela Produtos\n",
    "\n",
    "path = 'C:\\\\Users\\\\FIC\\\\Documents\\\\david_python\\\\Desafio 01 - Super Atacadista\\\\arquivos\\\\'\n",
    "file = 'Dimensões.xlsx'\n",
    "\n",
    "dfProdutos = pd.read_excel(path + file, sheet_name='Produto')\n",
    "\n",
    "dfProdutos.head()"
   ]
  },
  {
   "cell_type": "code",
   "execution_count": 21,
   "metadata": {},
   "outputs": [
    {
     "data": {
      "text/html": [
       "<div>\n",
       "<style scoped>\n",
       "    .dataframe tbody tr th:only-of-type {\n",
       "        vertical-align: middle;\n",
       "    }\n",
       "\n",
       "    .dataframe tbody tr th {\n",
       "        vertical-align: top;\n",
       "    }\n",
       "\n",
       "    .dataframe thead th {\n",
       "        text-align: right;\n",
       "    }\n",
       "</style>\n",
       "<table border=\"1\" class=\"dataframe\">\n",
       "  <thead>\n",
       "    <tr style=\"text-align: right;\">\n",
       "      <th></th>\n",
       "      <th>cdGrupo</th>\n",
       "      <th>Grupo</th>\n",
       "      <th>Linha</th>\n",
       "    </tr>\n",
       "  </thead>\n",
       "  <tbody>\n",
       "    <tr>\n",
       "      <th>0</th>\n",
       "      <td>102</td>\n",
       "      <td>Leite em Pó</td>\n",
       "      <td>Alimentos</td>\n",
       "    </tr>\n",
       "    <tr>\n",
       "      <th>1</th>\n",
       "      <td>103</td>\n",
       "      <td>Açúcares</td>\n",
       "      <td>Alimentos</td>\n",
       "    </tr>\n",
       "    <tr>\n",
       "      <th>2</th>\n",
       "      <td>104</td>\n",
       "      <td>Doces Enlatados</td>\n",
       "      <td>Alimentos</td>\n",
       "    </tr>\n",
       "    <tr>\n",
       "      <th>3</th>\n",
       "      <td>105</td>\n",
       "      <td>Farinhas</td>\n",
       "      <td>Alimentos</td>\n",
       "    </tr>\n",
       "    <tr>\n",
       "      <th>4</th>\n",
       "      <td>106</td>\n",
       "      <td>Óleos</td>\n",
       "      <td>Alimentos</td>\n",
       "    </tr>\n",
       "  </tbody>\n",
       "</table>\n",
       "</div>"
      ],
      "text/plain": [
       "   cdGrupo            Grupo      Linha\n",
       "0      102      Leite em Pó  Alimentos\n",
       "1      103         Açúcares  Alimentos\n",
       "2      104  Doces Enlatados  Alimentos\n",
       "3      105         Farinhas  Alimentos\n",
       "4      106            Óleos  Alimentos"
      ]
     },
     "execution_count": 21,
     "metadata": {},
     "output_type": "execute_result"
    }
   ],
   "source": [
    "# Carregar a tabela Grupo Produto\n",
    "\n",
    "path = 'C:\\\\Users\\\\FIC\\\\Documents\\\\david_python\\\\Desafio 01 - Super Atacadista\\\\arquivos\\\\'\n",
    "file = 'Dimensões.xlsx'\n",
    "\n",
    "dfGrupoProd = pd.read_excel(path + file, sheet_name='GrupoProduto')\n",
    "\n",
    "dfGrupoProd.head()"
   ]
  },
  {
   "cell_type": "code",
   "execution_count": 22,
   "metadata": {},
   "outputs": [
    {
     "data": {
      "text/html": [
       "<div>\n",
       "<style scoped>\n",
       "    .dataframe tbody tr th:only-of-type {\n",
       "        vertical-align: middle;\n",
       "    }\n",
       "\n",
       "    .dataframe tbody tr th {\n",
       "        vertical-align: top;\n",
       "    }\n",
       "\n",
       "    .dataframe thead th {\n",
       "        text-align: right;\n",
       "    }\n",
       "</style>\n",
       "<table border=\"1\" class=\"dataframe\">\n",
       "  <thead>\n",
       "    <tr style=\"text-align: right;\">\n",
       "      <th></th>\n",
       "      <th>cdVendedor</th>\n",
       "      <th>Vendedor</th>\n",
       "      <th>cdSupervisor</th>\n",
       "      <th>Supervisor</th>\n",
       "      <th>cdGerente</th>\n",
       "      <th>Gerente</th>\n",
       "      <th>Equipe</th>\n",
       "    </tr>\n",
       "  </thead>\n",
       "  <tbody>\n",
       "    <tr>\n",
       "      <th>0</th>\n",
       "      <td>669</td>\n",
       "      <td>Kaua Araujo</td>\n",
       "      <td>15</td>\n",
       "      <td>Fernando Silva</td>\n",
       "      <td>1</td>\n",
       "      <td>Victor Castro</td>\n",
       "      <td>Varejo</td>\n",
       "    </tr>\n",
       "    <tr>\n",
       "      <th>1</th>\n",
       "      <td>660</td>\n",
       "      <td>Julieta Gomes</td>\n",
       "      <td>25</td>\n",
       "      <td>Emily Rocha</td>\n",
       "      <td>1</td>\n",
       "      <td>Victor Castro</td>\n",
       "      <td>Varejo</td>\n",
       "    </tr>\n",
       "    <tr>\n",
       "      <th>2</th>\n",
       "      <td>183</td>\n",
       "      <td>Isabella Sousa</td>\n",
       "      <td>25</td>\n",
       "      <td>Emily Rocha</td>\n",
       "      <td>1</td>\n",
       "      <td>Victor Castro</td>\n",
       "      <td>Varejo</td>\n",
       "    </tr>\n",
       "    <tr>\n",
       "      <th>3</th>\n",
       "      <td>102</td>\n",
       "      <td>Gustavo Barros</td>\n",
       "      <td>25</td>\n",
       "      <td>Emily Rocha</td>\n",
       "      <td>1</td>\n",
       "      <td>Victor Castro</td>\n",
       "      <td>Varejo</td>\n",
       "    </tr>\n",
       "    <tr>\n",
       "      <th>4</th>\n",
       "      <td>196</td>\n",
       "      <td>Leonardo Cardoso</td>\n",
       "      <td>30</td>\n",
       "      <td>Diego Araujo</td>\n",
       "      <td>1</td>\n",
       "      <td>Victor Castro</td>\n",
       "      <td>Varejo</td>\n",
       "    </tr>\n",
       "  </tbody>\n",
       "</table>\n",
       "</div>"
      ],
      "text/plain": [
       "   cdVendedor          Vendedor  cdSupervisor      Supervisor  cdGerente  \\\n",
       "0         669       Kaua Araujo            15  Fernando Silva          1   \n",
       "1         660     Julieta Gomes            25     Emily Rocha          1   \n",
       "2         183    Isabella Sousa            25     Emily Rocha          1   \n",
       "3         102    Gustavo Barros            25     Emily Rocha          1   \n",
       "4         196  Leonardo Cardoso            30    Diego Araujo          1   \n",
       "\n",
       "         Gerente  Equipe  \n",
       "0  Victor Castro  Varejo  \n",
       "1  Victor Castro  Varejo  \n",
       "2  Victor Castro  Varejo  \n",
       "3  Victor Castro  Varejo  \n",
       "4  Victor Castro  Varejo  "
      ]
     },
     "execution_count": 22,
     "metadata": {},
     "output_type": "execute_result"
    }
   ],
   "source": [
    "# Carregar a tabela Clientes\n",
    "\n",
    "path = 'C:\\\\Users\\\\FIC\\\\Documents\\\\david_python\\\\Desafio 01 - Super Atacadista\\\\arquivos\\\\'\n",
    "file = 'Dimensões.xlsx'\n",
    "\n",
    "dfVendedores = pd.read_excel(path + file, sheet_name='Vendedor')\n",
    "\n",
    "dfVendedores.head()"
   ]
  },
  {
   "cell_type": "code",
   "execution_count": 23,
   "metadata": {},
   "outputs": [
    {
     "data": {
      "text/html": [
       "<div>\n",
       "<style scoped>\n",
       "    .dataframe tbody tr th:only-of-type {\n",
       "        vertical-align: middle;\n",
       "    }\n",
       "\n",
       "    .dataframe tbody tr th {\n",
       "        vertical-align: top;\n",
       "    }\n",
       "\n",
       "    .dataframe thead th {\n",
       "        text-align: right;\n",
       "    }\n",
       "</style>\n",
       "<table border=\"1\" class=\"dataframe\">\n",
       "  <thead>\n",
       "    <tr style=\"text-align: right;\">\n",
       "      <th></th>\n",
       "      <th>Data</th>\n",
       "      <th>Ano</th>\n",
       "      <th>Mes</th>\n",
       "      <th>MesNum</th>\n",
       "      <th>Dia</th>\n",
       "    </tr>\n",
       "  </thead>\n",
       "  <tbody>\n",
       "    <tr>\n",
       "      <th>0</th>\n",
       "      <td>2017-01-01</td>\n",
       "      <td>2017</td>\n",
       "      <td>Janeiro</td>\n",
       "      <td>1</td>\n",
       "      <td>1</td>\n",
       "    </tr>\n",
       "    <tr>\n",
       "      <th>1</th>\n",
       "      <td>2017-01-02</td>\n",
       "      <td>2017</td>\n",
       "      <td>Janeiro</td>\n",
       "      <td>1</td>\n",
       "      <td>2</td>\n",
       "    </tr>\n",
       "    <tr>\n",
       "      <th>2</th>\n",
       "      <td>2017-01-03</td>\n",
       "      <td>2017</td>\n",
       "      <td>Janeiro</td>\n",
       "      <td>1</td>\n",
       "      <td>3</td>\n",
       "    </tr>\n",
       "    <tr>\n",
       "      <th>3</th>\n",
       "      <td>2017-01-04</td>\n",
       "      <td>2017</td>\n",
       "      <td>Janeiro</td>\n",
       "      <td>1</td>\n",
       "      <td>4</td>\n",
       "    </tr>\n",
       "    <tr>\n",
       "      <th>4</th>\n",
       "      <td>2017-01-05</td>\n",
       "      <td>2017</td>\n",
       "      <td>Janeiro</td>\n",
       "      <td>1</td>\n",
       "      <td>5</td>\n",
       "    </tr>\n",
       "  </tbody>\n",
       "</table>\n",
       "</div>"
      ],
      "text/plain": [
       "        Data   Ano      Mes  MesNum  Dia\n",
       "0 2017-01-01  2017  Janeiro       1    1\n",
       "1 2017-01-02  2017  Janeiro       1    2\n",
       "2 2017-01-03  2017  Janeiro       1    3\n",
       "3 2017-01-04  2017  Janeiro       1    4\n",
       "4 2017-01-05  2017  Janeiro       1    5"
      ]
     },
     "execution_count": 23,
     "metadata": {},
     "output_type": "execute_result"
    }
   ],
   "source": [
    "# Carregar a tabela Data\n",
    "\n",
    "path = 'C:\\\\Users\\\\FIC\\\\Documents\\\\david_python\\\\Desafio 01 - Super Atacadista\\\\arquivos\\\\'\n",
    "file = 'Dimensões.xlsx'\n",
    "\n",
    "dfData = pd.read_excel(path + file, sheet_name='Data')\n",
    "\n",
    "dfData.head()"
   ]
  },
  {
   "cell_type": "markdown",
   "metadata": {},
   "source": [
    "Questão 02 - Qual a cobertura de clientes por ano"
   ]
  },
  {
   "cell_type": "code",
   "execution_count": 24,
   "metadata": {},
   "outputs": [
    {
     "data": {
      "text/html": [
       "<div>\n",
       "<style scoped>\n",
       "    .dataframe tbody tr th:only-of-type {\n",
       "        vertical-align: middle;\n",
       "    }\n",
       "\n",
       "    .dataframe tbody tr th {\n",
       "        vertical-align: top;\n",
       "    }\n",
       "\n",
       "    .dataframe thead th {\n",
       "        text-align: right;\n",
       "    }\n",
       "</style>\n",
       "<table border=\"1\" class=\"dataframe\">\n",
       "  <thead>\n",
       "    <tr style=\"text-align: right;\">\n",
       "      <th></th>\n",
       "      <th>DataEmissao</th>\n",
       "      <th>DataVencimento</th>\n",
       "      <th>NFe</th>\n",
       "      <th>cdCliente</th>\n",
       "      <th>cdVendedor</th>\n",
       "      <th>cdProduto</th>\n",
       "      <th>QtdItens</th>\n",
       "      <th>ValorUnitario</th>\n",
       "      <th>Peso Líquido</th>\n",
       "      <th>Data</th>\n",
       "      <th>Ano</th>\n",
       "      <th>Mes</th>\n",
       "      <th>MesNum</th>\n",
       "      <th>Dia</th>\n",
       "    </tr>\n",
       "  </thead>\n",
       "  <tbody>\n",
       "    <tr>\n",
       "      <th>0</th>\n",
       "      <td>2017-01-12</td>\n",
       "      <td>2017-02-22</td>\n",
       "      <td>1492762</td>\n",
       "      <td>3140218</td>\n",
       "      <td>265</td>\n",
       "      <td>1073</td>\n",
       "      <td>6</td>\n",
       "      <td>8.83</td>\n",
       "      <td>0.6</td>\n",
       "      <td>2017-01-12</td>\n",
       "      <td>2017</td>\n",
       "      <td>Janeiro</td>\n",
       "      <td>1</td>\n",
       "      <td>12</td>\n",
       "    </tr>\n",
       "    <tr>\n",
       "      <th>1</th>\n",
       "      <td>2017-01-12</td>\n",
       "      <td>2017-02-22</td>\n",
       "      <td>1492762</td>\n",
       "      <td>3140218</td>\n",
       "      <td>265</td>\n",
       "      <td>1420</td>\n",
       "      <td>6</td>\n",
       "      <td>4.44</td>\n",
       "      <td>5.4</td>\n",
       "      <td>2017-01-12</td>\n",
       "      <td>2017</td>\n",
       "      <td>Janeiro</td>\n",
       "      <td>1</td>\n",
       "      <td>12</td>\n",
       "    </tr>\n",
       "  </tbody>\n",
       "</table>\n",
       "</div>"
      ],
      "text/plain": [
       "  DataEmissao DataVencimento      NFe  cdCliente  cdVendedor  cdProduto  \\\n",
       "0  2017-01-12     2017-02-22  1492762    3140218         265       1073   \n",
       "1  2017-01-12     2017-02-22  1492762    3140218         265       1420   \n",
       "\n",
       "   QtdItens  ValorUnitario  Peso Líquido       Data   Ano      Mes  MesNum  \\\n",
       "0         6           8.83           0.6 2017-01-12  2017  Janeiro       1   \n",
       "1         6           4.44           5.4 2017-01-12  2017  Janeiro       1   \n",
       "\n",
       "   Dia  \n",
       "0   12  \n",
       "1   12  "
      ]
     },
     "execution_count": 24,
     "metadata": {},
     "output_type": "execute_result"
    }
   ],
   "source": [
    "# Bloco utilizado para combinar as colunas ANO, Mês, Dia e MesNum do dataframe\n",
    "# dfData, para que seja possível agregar os dados de modo a visualizar as informações\n",
    "# por ano.\n",
    "\n",
    "df_merge = file_combined.merge(dfData, # Tabela da direita (fornecedora das colunas faltantes)\n",
    "                               left_on='DataEmissao', # Coluna que será utilizada como valor procaurado na tabela esq.\n",
    "                               right_on='Data', # Coluna da tabela da direita que será utilizada para busca\n",
    "                               how='left' # É a forma que os dados serão inseridos, ESQUERDA <--- DIRETA\n",
    "                               )\n",
    "\n",
    "df_merge.head(2)"
   ]
  },
  {
   "cell_type": "code",
   "execution_count": 25,
   "metadata": {},
   "outputs": [
    {
     "data": {
      "text/plain": [
       "<Axes: xlabel='Ano', ylabel='cdCliente'>"
      ]
     },
     "execution_count": 25,
     "metadata": {},
     "output_type": "execute_result"
    },
    {
     "data": {
      "image/png": "[encoded data removed]",
      "text/plain": [
       "<Figure size 640x480 with 1 Axes>"
      ]
     },
     "metadata": {},
     "output_type": "display_data"
    }
   ],
   "source": [
    "# Cria um novo dataframe, considerando apenas as colunas ANO e cdCliente do df_merge\n",
    "df_contagem_cliente = df_merge.loc[:,['Ano','cdCliente']]\n",
    "\n",
    "# Remover a duplicada para calcular a cobertura de clientes\n",
    "# Sendo que para este cálculo é necessário eliminar os registros\n",
    "# Duplicados, considera todas as colunas\n",
    "\n",
    "df_contagem_cliente= df_contagem_cliente.drop_duplicates()\n",
    "\n",
    "# Agrupa os dados, por meio de contagem, separando os dados\n",
    "# através da coluna ANO\n",
    "df_contagem_cliente = df_contagem_cliente.groupby(['Ano']).count()\n",
    "\n",
    "\n",
    "sns.barplot(\n",
    "            x = df_contagem_cliente.index, \n",
    "            y ='cdCliente',\n",
    "            data = df_contagem_cliente\n",
    "            )"
   ]
  },
  {
   "cell_type": "markdown",
   "metadata": {},
   "source": [
    "### 3. Peso líquido total vendidos por ano?"
   ]
  },
  {
   "cell_type": "code",
   "execution_count": 27,
   "metadata": {},
   "outputs": [
    {
     "data": {
      "text/html": [
       "<div>\n",
       "<style scoped>\n",
       "    .dataframe tbody tr th:only-of-type {\n",
       "        vertical-align: middle;\n",
       "    }\n",
       "\n",
       "    .dataframe tbody tr th {\n",
       "        vertical-align: top;\n",
       "    }\n",
       "\n",
       "    .dataframe thead th {\n",
       "        text-align: right;\n",
       "    }\n",
       "</style>\n",
       "<table border=\"1\" class=\"dataframe\">\n",
       "  <thead>\n",
       "    <tr style=\"text-align: right;\">\n",
       "      <th></th>\n",
       "      <th>Peso Líquido</th>\n",
       "      <th>Peso_tons</th>\n",
       "    </tr>\n",
       "    <tr>\n",
       "      <th>Ano</th>\n",
       "      <th></th>\n",
       "      <th></th>\n",
       "    </tr>\n",
       "  </thead>\n",
       "  <tbody>\n",
       "    <tr>\n",
       "      <th>2017</th>\n",
       "      <td>414819.40</td>\n",
       "      <td>414.81940</td>\n",
       "    </tr>\n",
       "    <tr>\n",
       "      <th>2018</th>\n",
       "      <td>658505.01</td>\n",
       "      <td>658.50501</td>\n",
       "    </tr>\n",
       "    <tr>\n",
       "      <th>2019</th>\n",
       "      <td>61465.62</td>\n",
       "      <td>61.46562</td>\n",
       "    </tr>\n",
       "    <tr>\n",
       "      <th>2020</th>\n",
       "      <td>61465.62</td>\n",
       "      <td>61.46562</td>\n",
       "    </tr>\n",
       "    <tr>\n",
       "      <th>2021</th>\n",
       "      <td>61465.62</td>\n",
       "      <td>61.46562</td>\n",
       "    </tr>\n",
       "    <tr>\n",
       "      <th>2022</th>\n",
       "      <td>61465.62</td>\n",
       "      <td>61.46562</td>\n",
       "    </tr>\n",
       "  </tbody>\n",
       "</table>\n",
       "</div>"
      ],
      "text/plain": [
       "      Peso Líquido  Peso_tons\n",
       "Ano                          \n",
       "2017     414819.40  414.81940\n",
       "2018     658505.01  658.50501\n",
       "2019      61465.62   61.46562\n",
       "2020      61465.62   61.46562\n",
       "2021      61465.62   61.46562\n",
       "2022      61465.62   61.46562"
      ]
     },
     "execution_count": 27,
     "metadata": {},
     "output_type": "execute_result"
    }
   ],
   "source": [
    "df_peso_ano = df_merge.loc[:,['Ano', 'Peso Líquido']]\n",
    "\n",
    "df_peso_ano = df_peso_ano.groupby('Ano').sum()\n",
    "\n",
    "df_peso_ano['Peso_tons'] = df_peso_ano['Peso Líquido']/1000\n",
    "\n",
    "df_peso_ano"
   ]
  },
  {
   "cell_type": "code",
   "execution_count": 39,
   "metadata": {},
   "outputs": [
    {
     "data": {
      "text/plain": [
       "Text(0.5, 0, 'Ano')"
      ]
     },
     "execution_count": 39,
     "metadata": {},
     "output_type": "execute_result"
    },
    {
     "data": {
      "image/png": "[encoded data removed]",
      "text/plain": [
       "<Figure size 640x480 with 1 Axes>"
      ]
     },
     "metadata": {},
     "output_type": "display_data"
    }
   ],
   "source": [
    "sns.barplot(\n",
    "    x=df_peso_ano.index, \n",
    "    y=df_peso_ano['Peso_tons']\n",
    "    )\n",
    "\n",
    "#Titulo do gráfico\n",
    "plt.title('Peso em toneladas por ano')\n",
    "\n",
    "# Titulos nos eixos\n",
    "\n",
    "plt.ylabel('Peso (Tons)')\n",
    "\n",
    "plt.xlabel('Ano')\n",
    "\n"
   ]
  },
  {
   "cell_type": "markdown",
   "metadata": {},
   "source": [
    "### Qual é Total de Faturamento da Super Atacadista em todo o período?"
   ]
  },
  {
   "cell_type": "code",
   "execution_count": 63,
   "metadata": {},
   "outputs": [
    {
     "data": {
      "text/html": [
       "<div>\n",
       "<style scoped>\n",
       "    .dataframe tbody tr th:only-of-type {\n",
       "        vertical-align: middle;\n",
       "    }\n",
       "\n",
       "    .dataframe tbody tr th {\n",
       "        vertical-align: top;\n",
       "    }\n",
       "\n",
       "    .dataframe thead th {\n",
       "        text-align: right;\n",
       "    }\n",
       "</style>\n",
       "<table border=\"1\" class=\"dataframe\">\n",
       "  <thead>\n",
       "    <tr style=\"text-align: right;\">\n",
       "      <th></th>\n",
       "      <th>subtotal</th>\n",
       "    </tr>\n",
       "    <tr>\n",
       "      <th>Ano</th>\n",
       "      <th></th>\n",
       "    </tr>\n",
       "  </thead>\n",
       "  <tbody>\n",
       "    <tr>\n",
       "      <th>2017</th>\n",
       "      <td>6.648222</td>\n",
       "    </tr>\n",
       "    <tr>\n",
       "      <th>2018</th>\n",
       "      <td>10.214809</td>\n",
       "    </tr>\n",
       "    <tr>\n",
       "      <th>2019</th>\n",
       "      <td>1.046201</td>\n",
       "    </tr>\n",
       "    <tr>\n",
       "      <th>2020</th>\n",
       "      <td>1.046201</td>\n",
       "    </tr>\n",
       "    <tr>\n",
       "      <th>2021</th>\n",
       "      <td>1.046201</td>\n",
       "    </tr>\n",
       "    <tr>\n",
       "      <th>2022</th>\n",
       "      <td>1.046201</td>\n",
       "    </tr>\n",
       "  </tbody>\n",
       "</table>\n",
       "</div>"
      ],
      "text/plain": [
       "       subtotal\n",
       "Ano            \n",
       "2017   6.648222\n",
       "2018  10.214809\n",
       "2019   1.046201\n",
       "2020   1.046201\n",
       "2021   1.046201\n",
       "2022   1.046201"
      ]
     },
     "execution_count": 63,
     "metadata": {},
     "output_type": "execute_result"
    }
   ],
   "source": [
    "df_fat = df_merge.loc[:,['Ano','QtdItens','ValorUnitario']]\n",
    "\n",
    "# Adicionando a coluna Subtotal\n",
    "df_fat['subtotal'] = df_fat['QtdItens'] * df_fat['ValorUnitario']\n",
    "\n",
    "# Calcular o total vendido no período\n",
    "df_fat = df_fat.loc[:,['Ano','subtotal']]\n",
    "\n",
    "df_fat = df_fat.groupby('Ano').sum() / (10 ** 6)\n",
    "\n",
    "df_fat\n"
   ]
  },
  {
   "cell_type": "code",
   "execution_count": 64,
   "metadata": {},
   "outputs": [
    {
     "data": {
      "text/plain": [
       "<Axes: xlabel='Ano', ylabel='subtotal'>"
      ]
     },
     "execution_count": 64,
     "metadata": {},
     "output_type": "execute_result"
    },
    {
     "data": {
      "image/png": "[encoded data removed]",
      "text/plain": [
       "<Figure size 640x480 with 1 Axes>"
      ]
     },
     "metadata": {},
     "output_type": "display_data"
    }
   ],
   "source": [
    "# Criando o gráfico de colunas\n",
    "sns.barplot(x = df_fat.index, y = df_fat['subtotal'])"
   ]
  },
  {
   "cell_type": "markdown",
   "metadata": {},
   "source": [
    "### 5. Qual foi a quantidade total de produtos vendidos em todo o período?"
   ]
  },
  {
   "cell_type": "code",
   "execution_count": 42,
   "metadata": {},
   "outputs": [
    {
     "data": {
      "text/html": [
       "<div>\n",
       "<style scoped>\n",
       "    .dataframe tbody tr th:only-of-type {\n",
       "        vertical-align: middle;\n",
       "    }\n",
       "\n",
       "    .dataframe tbody tr th {\n",
       "        vertical-align: top;\n",
       "    }\n",
       "\n",
       "    .dataframe thead th {\n",
       "        text-align: right;\n",
       "    }\n",
       "</style>\n",
       "<table border=\"1\" class=\"dataframe\">\n",
       "  <thead>\n",
       "    <tr style=\"text-align: right;\">\n",
       "      <th></th>\n",
       "      <th>QtdItens</th>\n",
       "      <th>Qtd mil</th>\n",
       "    </tr>\n",
       "    <tr>\n",
       "      <th>Ano</th>\n",
       "      <th></th>\n",
       "      <th></th>\n",
       "    </tr>\n",
       "  </thead>\n",
       "  <tbody>\n",
       "    <tr>\n",
       "      <th>2017</th>\n",
       "      <td>2167345</td>\n",
       "      <td>2167.345</td>\n",
       "    </tr>\n",
       "    <tr>\n",
       "      <th>2018</th>\n",
       "      <td>3864838</td>\n",
       "      <td>3864.838</td>\n",
       "    </tr>\n",
       "    <tr>\n",
       "      <th>2019</th>\n",
       "      <td>348989</td>\n",
       "      <td>348.989</td>\n",
       "    </tr>\n",
       "    <tr>\n",
       "      <th>2020</th>\n",
       "      <td>348989</td>\n",
       "      <td>348.989</td>\n",
       "    </tr>\n",
       "    <tr>\n",
       "      <th>2021</th>\n",
       "      <td>348989</td>\n",
       "      <td>348.989</td>\n",
       "    </tr>\n",
       "    <tr>\n",
       "      <th>2022</th>\n",
       "      <td>348989</td>\n",
       "      <td>348.989</td>\n",
       "    </tr>\n",
       "  </tbody>\n",
       "</table>\n",
       "</div>"
      ],
      "text/plain": [
       "      QtdItens   Qtd mil\n",
       "Ano                     \n",
       "2017   2167345  2167.345\n",
       "2018   3864838  3864.838\n",
       "2019    348989   348.989\n",
       "2020    348989   348.989\n",
       "2021    348989   348.989\n",
       "2022    348989   348.989"
      ]
     },
     "execution_count": 42,
     "metadata": {},
     "output_type": "execute_result"
    }
   ],
   "source": [
    "df_qnt_prod = df_merge.loc[:,['Ano', 'QtdItens']]\n",
    "\n",
    "df_qnt_prod = df_qnt_prod.groupby('Ano').sum()\n",
    "\n",
    "df_qnt_prod['Qtd mil'] = df_qnt_prod['QtdItens']/1000\n",
    "\n",
    "df_qnt_prod"
   ]
  },
  {
   "cell_type": "code",
   "execution_count": 66,
   "metadata": {},
   "outputs": [
    {
     "data": {
      "text/plain": [
       "Text(0.5, 0, 'Qmt (Mil)')"
      ]
     },
     "execution_count": 66,
     "metadata": {},
     "output_type": "execute_result"
    },
    {
     "data": {
      "image/png": "[encoded data removed]",
      "text/plain": [
       "<Figure size 640x480 with 1 Axes>"
      ]
     },
     "metadata": {},
     "output_type": "display_data"
    }
   ],
   "source": [
    "sns.barplot(\n",
    "    y=df_qnt_prod.index,\n",
    "    x=df_qnt_prod['Qtd mil'],\n",
    "    orient='h'\n",
    "    )\n",
    "\n",
    "plt.title('Quantidade de Produtos em milhares por ano')\n",
    "\n",
    "plt.ylabel('Ano')\n",
    "\n",
    "plt.xlabel('Qmt (Mil)')"
   ]
  },
  {
   "cell_type": "markdown",
   "metadata": {},
   "source": [
    "### 7. Quantos clientes ativos e inativos temos em nossa empresa?"
   ]
  },
  {
   "cell_type": "code",
   "execution_count": 81,
   "metadata": {},
   "outputs": [
    {
     "data": {
      "text/plain": [
       "([<matplotlib.patches.Wedge at 0x23a23bec890>,\n",
       "  <matplotlib.patches.Wedge at 0x23a23c04e10>],\n",
       " [Text(-1.0939826195114473, 0.11490007922918268, 'Aivo'),\n",
       "  Text(1.093982623545592, -0.11490004081941627, 'Inativo')],\n",
       " [Text(-0.5967177924607893, 0.06267277048864509, '97%'),\n",
       "  Text(0.596717794661232, -0.0626727495378634, '3%')])"
      ]
     },
     "execution_count": 81,
     "metadata": {},
     "output_type": "execute_result"
    },
    {
     "data": {
      "image/png": "[encoded data removed]",
      "text/plain": [
       "<Figure size 640x480 with 1 Axes>"
      ]
     },
     "metadata": {},
     "output_type": "display_data"
    }
   ],
   "source": [
    "dfClientes_resumo = dfClientes.loc[:,['cdCliente','Status']]\n",
    "dfClientes_resumo\n",
    "\n",
    "# Substituir os valores da coluna status\n",
    "# A - Ativo I - Inativo\n",
    "\n",
    "dfClientes_resumo[\"Status\"] = dfClientes_resumo[\"Status\"].replace('A', 'Aivo')\n",
    "dfClientes_resumo[\"Status\"] = dfClientes_resumo[\"Status\"].replace('I', 'Inativo')\n",
    "\n",
    "# Agrupat os dados por Inativo e Ativo\n",
    "\n",
    "dfClientes_resumo = dfClientes_resumo.groupby('Status').count()\n",
    "\n",
    "#Gráfico de Pizza\n",
    "plt.pie(\n",
    "    dfClientes_resumo['cdCliente'],\n",
    "    labels=dfClientes_resumo.index,\n",
    "    autopct='%.0f%%'\n",
    ")"
   ]
  },
  {
   "cell_type": "markdown",
   "metadata": {},
   "source": [
    "### 6. Qual foi o total de peso em toneladas dos produtos vendidos em todo o período?"
   ]
  },
  {
   "cell_type": "code",
   "execution_count": 88,
   "metadata": {},
   "outputs": [
    {
     "name": "stdout",
     "output_type": "stream",
     "text": [
      " O peso total vendido foi de 1319.19 toneladas. \n"
     ]
    }
   ],
   "source": [
    "# Seleciona a coluna Peso Liquido e realiza soma deste valor e converte o total em toneladas\n",
    "\n",
    "peso_vendido = file_combined['Peso Líquido'].sum() / 1000\n",
    "\n",
    "# Trata a quantidade de casas decimais, ajustando para 2 casas após a virgula\n",
    "\n",
    "peso_vendido = round(peso_vendido, 2)\n",
    "\n",
    "print(f' O peso total vendido foi de {peso_vendido} toneladas. ')\n",
    "\n",
    "\n"
   ]
  },
  {
   "cell_type": "markdown",
   "metadata": {},
   "source": [
    "### 8. Qual foi o ano com maior ticket médio dos produtos?"
   ]
  },
  {
   "cell_type": "code",
   "execution_count": 100,
   "metadata": {},
   "outputs": [
    {
     "data": {
      "text/html": [
       "<div>\n",
       "<style scoped>\n",
       "    .dataframe tbody tr th:only-of-type {\n",
       "        vertical-align: middle;\n",
       "    }\n",
       "\n",
       "    .dataframe tbody tr th {\n",
       "        vertical-align: top;\n",
       "    }\n",
       "\n",
       "    .dataframe thead th {\n",
       "        text-align: right;\n",
       "    }\n",
       "</style>\n",
       "<table border=\"1\" class=\"dataframe\">\n",
       "  <thead>\n",
       "    <tr style=\"text-align: right;\">\n",
       "      <th></th>\n",
       "      <th>QtdItens</th>\n",
       "      <th>Valor Total</th>\n",
       "      <th>Ticket Medio</th>\n",
       "    </tr>\n",
       "    <tr>\n",
       "      <th>Ano</th>\n",
       "      <th></th>\n",
       "      <th></th>\n",
       "      <th></th>\n",
       "    </tr>\n",
       "  </thead>\n",
       "  <tbody>\n",
       "    <tr>\n",
       "      <th>2017</th>\n",
       "      <td>2167345</td>\n",
       "      <td>6648222.05</td>\n",
       "      <td>3.067450</td>\n",
       "    </tr>\n",
       "    <tr>\n",
       "      <th>2018</th>\n",
       "      <td>3864838</td>\n",
       "      <td>10214809.43</td>\n",
       "      <td>2.643011</td>\n",
       "    </tr>\n",
       "    <tr>\n",
       "      <th>2019</th>\n",
       "      <td>348989</td>\n",
       "      <td>1046201.01</td>\n",
       "      <td>2.997805</td>\n",
       "    </tr>\n",
       "    <tr>\n",
       "      <th>2020</th>\n",
       "      <td>348989</td>\n",
       "      <td>1046201.01</td>\n",
       "      <td>2.997805</td>\n",
       "    </tr>\n",
       "    <tr>\n",
       "      <th>2021</th>\n",
       "      <td>348989</td>\n",
       "      <td>1046201.01</td>\n",
       "      <td>2.997805</td>\n",
       "    </tr>\n",
       "    <tr>\n",
       "      <th>2022</th>\n",
       "      <td>348989</td>\n",
       "      <td>1046201.01</td>\n",
       "      <td>2.997805</td>\n",
       "    </tr>\n",
       "  </tbody>\n",
       "</table>\n",
       "</div>"
      ],
      "text/plain": [
       "      QtdItens  Valor Total  Ticket Medio\n",
       "Ano                                      \n",
       "2017   2167345   6648222.05      3.067450\n",
       "2018   3864838  10214809.43      2.643011\n",
       "2019    348989   1046201.01      2.997805\n",
       "2020    348989   1046201.01      2.997805\n",
       "2021    348989   1046201.01      2.997805\n",
       "2022    348989   1046201.01      2.997805"
      ]
     },
     "execution_count": 100,
     "metadata": {},
     "output_type": "execute_result"
    }
   ],
   "source": [
    "# Seleção das colunas Ano, QtdItens e Valor Unitário\n",
    "df_ticket = df_merge.loc[:,['Ano','QtdItens','ValorUnitario']]\n",
    "\n",
    "#Adicionar a coluna Valor Total\n",
    "df_ticket['Valor Total'] = df_ticket['QtdItens'] * df_ticket['ValorUnitario']\n",
    "\n",
    "#Selecionar as colunas de intresse\n",
    "df_ticket = df_ticket.loc[:,['Ano', 'QtdItens','Valor Total']]\n",
    "\n",
    "#Agrupar os campos QndItens e ValorTotal por Ano\n",
    "df_ticket = df_ticket.groupby('Ano').sum()\n",
    "\n",
    "\n",
    "df_ticket['Ticket Medio'] = df_ticket['Valor Total'] / df_ticket['QtdItens']\n",
    "\n",
    "df_ticket"
   ]
  }
 ],
 "metadata": {
  "kernelspec": {
   "display_name": "Python 3",
   "language": "python",
   "name": "python3"
  },
  "language_info": {
   "codemirror_mode": {
    "name": "ipython",
    "version": 3
   },
   "file_extension": ".py",
   "mimetype": "text/x-python",
   "name": "python",
   "nbconvert_exporter": "python",
   "pygments_lexer": "ipython3",
   "version": "3.11.0"
  },
  "orig_nbformat": 4
 },
 "nbformat": 4,
 "nbformat_minor": 2
}
