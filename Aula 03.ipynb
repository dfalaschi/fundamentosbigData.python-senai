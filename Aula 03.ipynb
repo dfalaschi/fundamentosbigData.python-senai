{
 "cells": [
  {
   "cell_type": "markdown",
   "id": "94056926-e3c7-4fe4-b01b-d38e6278b9ff",
   "metadata": {},
   "source": [
    "Exercício 15  \n",
    "\n",
    "Faça um programa para a leitura de duas notas parciais de um aluno. O\n",
    "programa deve calcular a média alcançada por aluno e apresentar:\n",
    "• A mensagem \"Aprovado\", se a média alcançada for maior ou igual a sete;\n",
    "• A mensagem \"Reprovado\", se a média for menor do que sete;\n",
    "• A mensagem \"Aprovado com Distinção\", se a média for igual a dez.\n"
   ]
  },
  {
   "cell_type": "code",
   "execution_count": null,
   "id": "1f8484a3-f609-4635-812b-8798aa20aba4",
   "metadata": {},
   "outputs": [],
   "source": [
    "nota_1 = float(input('Digite a nota 01: '))\n",
    "nota_2 = float(input('Digite a nota 02: '))\n",
    "\n",
    "media = (nota_1 + nota_2) / 2\n",
    "\n",
    "if media >= 7 and media <10:\n",
    "    print(f' APROVADO! Sua média final é: {media}.')\n",
    "elif media < 7:\n",
    "    print (f' REPROVADO! Sua média final é: {media}.')\n",
    "elif media == 10:\n",
    "    print (f' APROVADO COM DISTINÇÃO! Sua média final é: {media}.')\n",
    "           "
   ]
  },
  {
   "cell_type": "markdown",
   "id": "540840cc-9a61-437e-91e8-de9d2976f901",
   "metadata": {},
   "source": [
    "Exercício 17 \n",
    "\n",
    "Faça um Programa que leia três números e mostre o maior e o menor\n",
    "deles.\n"
   ]
  },
  {
   "cell_type": "code",
   "execution_count": null,
   "id": "b252547e-4921-4298-a3ba-4dd81b413200",
   "metadata": {},
   "outputs": [],
   "source": [
    "num_1 = float(input('Digite o primeiro número: '))\n",
    "num_2 = float(input('Digite o segundo número: '))\n",
    "num_3 = float(input('Digite o terceiro número: '))\n",
    "\n",
    "#maior numero\n",
    "\n",
    "if num_1 > num_2 and num_1 > num_3:\n",
    "    print (f' O Maior número é o: {num_1}.')\n",
    "elif num_2 > num_1 and num_2 > num_3:\n",
    "    print (f' O Maior número é o: {num_2}.')\n",
    "else:\n",
    "    print (f' O Maior número é o: {num_3}.')\n",
    "\n",
    "#menos número\n",
    "if num_1 < num_2 and num_1 < num_3:\n",
    "    print (f' O Menor número é o: {num_1}. ')\n",
    "elif num_2 < num_1 and num_2 < num_3:\n",
    "    print (f' O Menor número é o: {num_2}. ')\n",
    "else:\n",
    "    print(f' O Menor número é o: {num_3}. ')\n",
    "    \n",
    "\n"
   ]
  },
  {
   "cell_type": "markdown",
   "id": "d0905195-314d-40ad-bafe-207bb02c3bbf",
   "metadata": {},
   "source": [
    "Exercício 17 - Resolucao Edu\n",
    "\n",
    "Faça um Programa que leia três números e mostre o maior e o menor\n",
    "deles."
   ]
  },
  {
   "cell_type": "code",
   "execution_count": 7,
   "id": "b2b4c2a3-027d-4f43-b5b7-4f11bbeac6a4",
   "metadata": {},
   "outputs": [
    {
     "name": "stdin",
     "output_type": "stream",
     "text": [
      "Digite o primeiro número:  10\n",
      "Digite o segundo número:  20\n",
      "Digite o terceiro número:  5\n"
     ]
    },
    {
     "name": "stdout",
     "output_type": "stream",
     "text": [
      "O Maior valor é: 20.0 e o menor valor é 5.0\n"
     ]
    }
   ],
   "source": [
    "num_1 = float(input('Digite o primeiro número: '))\n",
    "num_2 = float(input('Digite o segundo número: '))\n",
    "num_3 = float(input('Digite o terceiro número: '))\n",
    "\n",
    "if num_1 > num_2 and num_1 > num_3:\n",
    "    \n",
    "    if num_2 < num_3:\n",
    "        print(f' O Maior valor é: {num_1} e o menor valor é {num_2}')\n",
    "    else:\n",
    "        print(f' O Maior valor é: {num_1} e o menor valor é {mum_3}')\n",
    "    \n",
    "elif num_2 > num_1 and num_2 > num_3:\n",
    "    \n",
    "    if num_1 < num_3:\n",
    "        print(f'O Maior valor é: {num_2} e o menor valor é {num_1}')\n",
    "    else:\n",
    "        print(f'O Maior valor é: {num_2} e o menor valor é {num_3}')\n",
    "    \n",
    "elif num_3 > num_1 and num_3 > num_2:\n",
    "    \n",
    "    if num_1 > num_2:\n",
    "        print(f'O Maior valor é: {num_3} e o menor valor é {num_1}')\n",
    "    else:\n",
    "        print(f'O Maior valor é: {num_3} e o menor valor é {num_2}')"
   ]
  },
  {
   "cell_type": "markdown",
   "id": "2b794ee5-70d3-4a1f-8bf2-c623328af21f",
   "metadata": {},
   "source": [
    "Exercício 18 \n",
    "\n",
    "Faça um programa que pergunte o preço de três produtos e informe qual\n",
    "produto você deve comprar, sabendo que a decisão é sempre pelo mais barato.\n",
    "\n",
    "\n"
   ]
  },
  {
   "cell_type": "code",
   "execution_count": null,
   "id": "09ea8469-7ae8-4b72-8573-a3485f881423",
   "metadata": {},
   "outputs": [],
   "source": [
    "preco_p1 = float(input('Digite o preço do primeiro produto: '))\n",
    "preco_p2 = float(input('Digite o preço do segundo produto: '))\n",
    "preco_p3 = float(input('Digite o preco do terceiro produto: '))\n",
    "\n",
    "if preco_p1 < preco_p2 and preco_p1 < preco_p3:\n",
    "                 print('O produto a ser comprado é o produto 1')\n",
    "elif preco_p2 < preco_p1 and preco_p2 < preco_p3:\n",
    "                 print('O produto a ser comprado é o produto 2')\n",
    "else:\n",
    "                 print('O produto a ser comprado é o produto 3')\n",
    "                 "
   ]
  },
  {
   "cell_type": "markdown",
   "id": "d753e6ab-f46b-4b6b-a0e9-0c56ca3d25cc",
   "metadata": {},
   "source": [
    "Exercício 19 - Faça um Programa que leia três números e mostre-os em ordem\n",
    "decrescente.\n"
   ]
  },
  {
   "cell_type": "code",
   "execution_count": 14,
   "id": "73b64a00-e404-4321-82bf-22c69e6aa550",
   "metadata": {},
   "outputs": [
    {
     "name": "stdin",
     "output_type": "stream",
     "text": [
      "Digite o primeiro número:  2\n",
      "Digite o segundo número:  5\n",
      "Digite o terceiro número:  6\n"
     ]
    },
    {
     "name": "stdout",
     "output_type": "stream",
     "text": [
      "6.0, 5.0 e 2.0\n"
     ]
    }
   ],
   "source": [
    "num_1 = float(input('Digite o primeiro número: '))\n",
    "num_2 = float(input('Digite o segundo número: '))\n",
    "num_3 = float(input('Digite o terceiro número: '))\n",
    "\n",
    "if num_1 > num_2 and num_1 > num_3:\n",
    "    \n",
    "    if num_2 > num_3:\n",
    "        print(f'{num_1}, {num_2} e {num_3}')\n",
    "    else:\n",
    "        print(f'{num_1}, {num_2} e {num_3}')\n",
    "\n",
    "elif num_2 > num_1 and num_2 > num_3:\n",
    "    \n",
    "    if num_1 > num_3:\n",
    "        print(f'{num_2}, {num_1} e {num_3}')\n",
    "    else:\n",
    "        print(f'{num_2}, {num_3} e {num_1}')\n",
    "        \n",
    "elif num_3 > num_1 and num_3 > num_2:\n",
    "    \n",
    "    if num_1 > num_2:\n",
    "        print(f'{num_3}, {num_1} e {num_2}')\n",
    "    else:\n",
    "        print(f'{num_3}, {num_2} e {num_1}')\n",
    "    \n",
    "\n",
    "            \n",
    "            \n"
   ]
  },
  {
   "cell_type": "markdown",
   "id": "e6e4567d-8e30-43ff-b5ee-aa8a149d223d",
   "metadata": {},
   "source": [
    "Exercício 20\n",
    "\n",
    "Faça um Programa que pergunte em que turno você estuda. Peça para\n",
    "digitar M-matutino ou V-Vespertino ou N- Noturno. Imprima a mensagem \"Bom Dia!\",\n",
    "\"Boa Tarde!\" ou \"Boa Noite!\" ou \"Valor Inválido!\", conforme o caso"
   ]
  },
  {
   "cell_type": "code",
   "execution_count": null,
   "id": "b2e66da9-3ba3-4311-81af-9fbf98c0cde6",
   "metadata": {},
   "outputs": [
    {
     "name": "stdin",
     "output_type": "stream",
     "text": [
      "Digite o turno do seu curso:  n\n"
     ]
    },
    {
     "name": "stdout",
     "output_type": "stream",
     "text": [
      "Boa noite!\n"
     ]
    }
   ],
   "source": [
    "valor = str(input('Digite o turno do seu curso: '))\n",
    "\n",
    "if valor == 'matutino':\n",
    "    print('Bom dia!')\n",
    "elif valor == 'vespertino':\n",
    "    print('Boa tarde!')\n",
    "elif valor == 'noturno':\n",
    "    print('Boa noite!')\n",
    "else:\n",
    "    print('Valor inválido!')"
   ]
  },
  {
   "cell_type": "markdown",
   "id": "c3dddfd2-8a62-42de-9a56-06a78350af00",
   "metadata": {},
   "source": []
  }
 ],
 "metadata": {
  "kernelspec": {
   "display_name": "Python 3 (ipykernel)",
   "language": "python",
   "name": "python3"
  },
  "language_info": {
   "codemirror_mode": {
    "name": "ipython",
    "version": 3
   },
   "file_extension": ".py",
   "mimetype": "text/x-python",
   "name": "python",
   "nbconvert_exporter": "python",
   "pygments_lexer": "ipython3",
   "version": "3.10.9"
  }
 },
 "nbformat": 4,
 "nbformat_minor": 5
}
