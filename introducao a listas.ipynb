{
 "cells": [
  {
   "cell_type": "markdown",
   "metadata": {},
   "source": [
    "Trabalhando com Listas"
   ]
  },
  {
   "cell_type": "code",
   "execution_count": 3,
   "metadata": {},
   "outputs": [],
   "source": [
    "# Criando uma lista\n",
    "\n",
    "alunos = ['Amanda','Ana','Bruno','Bianca']\n",
    "notas = [10,20,30,40]\n"
   ]
  },
  {
   "cell_type": "code",
   "execution_count": 4,
   "metadata": {},
   "outputs": [
    {
     "data": {
      "text/plain": [
       "'Bruno'"
      ]
     },
     "execution_count": 4,
     "metadata": {},
     "output_type": "execute_result"
    }
   ],
   "source": [
    "# Retornar os elementos das listas  \n",
    "alunos[2]"
   ]
  },
  {
   "cell_type": "code",
   "execution_count": 10,
   "metadata": {},
   "outputs": [
    {
     "name": "stdout",
     "output_type": "stream",
     "text": [
      "O time que está na terceira posição é:  Coritiba\n",
      "O time que está na terceira posição é:  Santos\n",
      "O time que está na primeira posição é:  Palmeiras\n"
     ]
    }
   ],
   "source": [
    "times = ['Palmeiras', 'São Paulo', 'Coritiba', 'Santos']\n",
    "\n",
    "# Acessar o time que está na terceira posição\n",
    "print('O time que está na terceira posição é: ', times[2])\n",
    "      \n",
    "\n",
    "# Acessar o time que está na quarta posição\n",
    "print('O time que está na terceira posição é: ', times[3])\n",
    "\n",
    "\n",
    "# Acessar o time que está na primeira posição\n",
    "print('O time que está na primeira posição é: ', times[0])\n"
   ]
  },
  {
   "cell_type": "markdown",
   "metadata": {},
   "source": [
    "Exercicio\n",
    "\n",
    "Crie uma lista com duas listas de 3 times de futebol, cada uma de uma\n",
    "divisão diferente."
   ]
  },
  {
   "cell_type": "code",
   "execution_count": 20,
   "metadata": {},
   "outputs": [
    {
     "name": "stdout",
     "output_type": "stream",
     "text": [
      "Os itens da lista são:  ['Corinthians', 'São Caetano', 'Bahia', 'Sport']\n",
      "O terceiro elemento da segunda lista é:  Bahia\n",
      "Os itens de ambas listas:  [['Palmeiras', 'Santos', 'Coritiba', 'São Paulo'], ['Corinthians', 'São Caetano', 'Bahia', 'Sport']]\n"
     ]
    }
   ],
   "source": [
    "# Criando listas em listas\n",
    "\n",
    "campeonato = [['Palmeiras', 'Santos', 'Coritiba', 'São Paulo'],\n",
    "             ['Corinthians', 'São Caetano', 'Bahia', 'Sport']]\n",
    "\n",
    "\n",
    "# Acessar os elementos da primeira lista\n",
    "\n",
    "print('Os itens da lista são: ', campeonato[1])\n",
    "\n",
    "\n",
    "# Acessar o terceiro elemento da segunda lista\n",
    "\n",
    "print('O terceiro elemento da segunda lista é: ',campeonato[1][2])\n",
    "\n",
    "\n",
    "# Acessar todos os itens de ambas listas\n",
    "print('Os itens de ambas listas: ', campeonato)\n",
    "\n",
    "\n"
   ]
  }
 ],
 "metadata": {
  "kernelspec": {
   "display_name": "Python 3",
   "language": "python",
   "name": "python3"
  },
  "language_info": {
   "codemirror_mode": {
    "name": "ipython",
    "version": 3
   },
   "file_extension": ".py",
   "mimetype": "text/x-python",
   "name": "python",
   "nbconvert_exporter": "python",
   "pygments_lexer": "ipython3",
   "version": "3.11.0"
  },
  "orig_nbformat": 4
 },
 "nbformat": 4,
 "nbformat_minor": 2
}
