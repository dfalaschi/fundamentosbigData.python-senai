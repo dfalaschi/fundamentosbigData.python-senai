{
 "cells": [
  {
   "cell_type": "markdown",
   "id": "7fb0e477",
   "metadata": {},
   "source": [
    "    #### Primeira aula de Phyton no Senai"
   ]
  },
  {
   "cell_type": "code",
   "execution_count": 1,
   "id": "2c4c65ca",
   "metadata": {},
   "outputs": [
    {
     "name": "stdout",
     "output_type": "stream",
     "text": [
      "Hello, World!\n"
     ]
    }
   ],
   "source": [
    "print(\"Hello, World!\") "
   ]
  },
  {
   "cell_type": "markdown",
   "id": "b325f786",
   "metadata": {},
   "source": [
    " Declarando Variáveis"
   ]
  },
  {
   "cell_type": "code",
   "execution_count": null,
   "id": "fdf4ce4e",
   "metadata": {},
   "outputs": [],
   "source": [
    "a = 10\n",
    "b = \"David\"\n",
    "c = 0.5\n",
    "d = [\"Abelha\", \"Beterraba\", \"Churrasco\"]"
   ]
  },
  {
   "cell_type": "code",
   "execution_count": null,
   "id": "a896f088",
   "metadata": {
    "scrolled": true
   },
   "outputs": [],
   "source": [
    "type(c)"
   ]
  },
  {
   "cell_type": "code",
   "execution_count": null,
   "id": "c1234780",
   "metadata": {
    "scrolled": true
   },
   "outputs": [],
   "source": [
    "type(d)\n",
    "print(d)"
   ]
  },
  {
   "cell_type": "markdown",
   "id": "eb592882",
   "metadata": {},
   "source": [
    "Exercicio 01\n",
    "\n",
    "Crie um programa para receber dois valores e em seguida, exiba o valor\n",
    "da soma."
   ]
  },
  {
   "cell_type": "code",
   "execution_count": 5,
   "id": "88fe5d12",
   "metadata": {},
   "outputs": [],
   "source": [
    "num1 = 10\n",
    "num2 = 5\n",
    "\n",
    "soma = num1 + num2"
   ]
  },
  {
   "cell_type": "code",
   "execution_count": 7,
   "id": "075e756d",
   "metadata": {},
   "outputs": [
    {
     "name": "stdout",
     "output_type": "stream",
     "text": [
      "15\n"
     ]
    }
   ],
   "source": [
    "print(soma)"
   ]
  },
  {
   "cell_type": "markdown",
   "id": "12d5272a",
   "metadata": {},
   "source": [
    "Exercicio 02\n",
    "\n",
    "Crie um programa para receber dois valores e em seguida, exiba o valor\n",
    "da diferença entre eles."
   ]
  },
  {
   "cell_type": "code",
   "execution_count": 9,
   "id": "d1162a44",
   "metadata": {},
   "outputs": [],
   "source": [
    "num1 = 10\n",
    "num2 = 5\n",
    "\n",
    "soma = num1 - num2"
   ]
  },
  {
   "cell_type": "code",
   "execution_count": 11,
   "id": "74fcc06b",
   "metadata": {},
   "outputs": [
    {
     "name": "stdout",
     "output_type": "stream",
     "text": [
      "5\n"
     ]
    }
   ],
   "source": [
    "print(soma)"
   ]
  },
  {
   "cell_type": "markdown",
   "id": "9dfd17a7",
   "metadata": {},
   "source": [
    "Exercicio 03\n",
    "\n",
    "Crie um programa para receber dois valores e em seguida, exiba o\n",
    "produto entre eles."
   ]
  },
  {
   "cell_type": "code",
   "execution_count": 13,
   "id": "dc8c3709",
   "metadata": {},
   "outputs": [],
   "source": [
    "num1= 10\n",
    "num2 = 5\n",
    "\n",
    "produto = num1 * num2"
   ]
  },
  {
   "cell_type": "code",
   "execution_count": 15,
   "id": "a71e9fe1",
   "metadata": {},
   "outputs": [
    {
     "name": "stdout",
     "output_type": "stream",
     "text": [
      "50\n"
     ]
    }
   ],
   "source": [
    "print(produto)"
   ]
  },
  {
   "cell_type": "markdown",
   "id": "66573635",
   "metadata": {},
   "source": [
    "Exercicio 04\n",
    "\n",
    "Crie um programa para receber dois valores e em seguida, exiba o\n",
    "quociente entre eles."
   ]
  },
  {
   "cell_type": "code",
   "execution_count": 17,
   "id": "fe366cdc",
   "metadata": {},
   "outputs": [
    {
     "name": "stdout",
     "output_type": "stream",
     "text": [
      "2.0\n"
     ]
    }
   ],
   "source": [
    "num1 = 10\n",
    "num2 = 5\n",
    "\n",
    "quociente = num1 / num2\n",
    "print(quociente)"
   ]
  },
  {
   "cell_type": "markdown",
   "id": "85d49031",
   "metadata": {},
   "source": [
    "Exercicio 05\n",
    "\n",
    "Crie um programa para receber dois valores e em seguida, exiba o resto\n",
    "da divisão entre eles."
   ]
  },
  {
   "cell_type": "code",
   "execution_count": 21,
   "id": "e5e2cabd",
   "metadata": {},
   "outputs": [
    {
     "name": "stdout",
     "output_type": "stream",
     "text": [
      "1\n"
     ]
    }
   ],
   "source": [
    "num1 = 10\n",
    "num2 = 3\n",
    "\n",
    "resto = num1 % num2\n",
    "# simbolo % calcula o resto da divisão\n",
    "\n",
    "print(resto)\n"
   ]
  },
  {
   "cell_type": "markdown",
   "id": "09651cd0",
   "metadata": {},
   "source": [
    "Exercicio 10\n",
    "\n",
    "Faça um Programa que converta metros para centímetros.\n",
    "\n",
    "Objetivo Metros -> Centimetros\n",
    "1. Receber o valor;\n",
    "2. Pegar o valor em metros e multiplicar por 100\n",
    "3. Exibir o resultado\n",
    "\n"
   ]
  },
  {
   "cell_type": "code",
   "execution_count": 23,
   "id": "73b198ba",
   "metadata": {},
   "outputs": [
    {
     "name": "stdout",
     "output_type": "stream",
     "text": [
      "10000\n"
     ]
    }
   ],
   "source": [
    "# Receber o valor em metros\n",
    "metros = 100\n",
    "\n",
    "# Pegar o valor em metros e multiplicar por 100\n",
    "\n",
    "centimentros = metros * 100\n",
    "\n",
    "# Exibir o resultado\n",
    "\n",
    "print(centimentros)"
   ]
  },
  {
   "cell_type": "markdown",
   "id": "4b19e011",
   "metadata": {},
   "source": [
    "Exercício 11\n",
    "\n",
    "Faça um Programa que peça o raio de um círculo, calcule e mostre sua\n",
    "área.\n"
   ]
  },
  {
   "cell_type": "code",
   "execution_count": 29,
   "id": "9f5a3a42",
   "metadata": {},
   "outputs": [
    {
     "name": "stdout",
     "output_type": "stream",
     "text": [
      "1256.0\n"
     ]
    }
   ],
   "source": [
    "# Receber o valor do raio\n",
    "raio = 20\n",
    "\n",
    "# Calcular a área do ciruculo\n",
    "\n",
    "area_circulo = 3.14 * raio **2\n",
    "\n",
    "# Exibir a ára do círculo \n",
    "print (area_circulo)"
   ]
  },
  {
   "cell_type": "markdown",
   "id": "48ab00ec",
   "metadata": {},
   "source": [
    "Exercício 12\n",
    "\n",
    "Faça um Programa que calcule a área de um quadrado, em seguida\n",
    "mostre o dobro desta área para o usuário."
   ]
  },
  {
   "cell_type": "code",
   "execution_count": 34,
   "id": "60badf0c",
   "metadata": {},
   "outputs": [
    {
     "name": "stdout",
     "output_type": "stream",
     "text": [
      "A área do quadrado é:  100\n",
      "O dobro da área é:  200\n"
     ]
    }
   ],
   "source": [
    "# Receber o lado do quadrado\n",
    "\n",
    "lado = 10\n",
    "\n",
    "# Calcular a área do quadrado \n",
    "\n",
    "area_quadrado = lado ** 2\n",
    "\n",
    "area_dobro = area_quadrado * 2 \n",
    "\n",
    "# Mostrar a área\n",
    "\n",
    "print('A área do quadrado é: ', area_quadrado)\n",
    "print('O dobro da área é: ', area_dobro)"
   ]
  },
  {
   "cell_type": "markdown",
   "id": "2f8abdc5",
   "metadata": {},
   "source": [
    "Exercício 13\n",
    "\n",
    "Faça um Programa que pergunte quanto você ganha por hora e o número\n",
    "de horas trabalhadas no mês. Calcule e mostre o total do seu salário no referido mês."
   ]
  },
  {
   "cell_type": "code",
   "execution_count": 38,
   "id": "81011254",
   "metadata": {},
   "outputs": [
    {
     "name": "stdout",
     "output_type": "stream",
     "text": [
      "Informe o quanto você recebe por hora: 300\n"
     ]
    },
    {
     "data": {
      "text/plain": [
       "int"
      ]
     },
     "execution_count": 38,
     "metadata": {},
     "output_type": "execute_result"
    }
   ],
   "source": [
    "# Solicitar um valor ao usuário\n",
    "valor_hora = input('Informe o quanto você recebe por hora: ')\n",
    "valor_hora = int(valor_hora)\n",
    "\n",
    "type (valor_hora)\n",
    "\n",
    "\n",
    "\n",
    "\n",
    "\n"
   ]
  }
 ],
 "metadata": {
  "kernelspec": {
   "display_name": "Python 3 (ipykernel)",
   "language": "python",
   "name": "python3"
  },
  "language_info": {
   "codemirror_mode": {
    "name": "ipython",
    "version": 3
   },
   "file_extension": ".py",
   "mimetype": "text/x-python",
   "name": "python",
   "nbconvert_exporter": "python",
   "pygments_lexer": "ipython3",
   "version": "3.10.9"
  }
 },
 "nbformat": 4,
 "nbformat_minor": 5
}
