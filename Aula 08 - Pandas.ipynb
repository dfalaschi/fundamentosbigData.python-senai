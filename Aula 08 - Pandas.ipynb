{
 "cells": [
  {
   "cell_type": "markdown",
   "metadata": {},
   "source": [
    "Exercício 03 – Manipulando dados com Pandas\n",
    "\n",
    "a) Crie um programa em pandas para ler o arquivo em Excel vendas.xlsx e\n",
    "\n",
    "b) coloque em um dataframe.\n",
    "\n",
    "c) Visualize o cabeçalho dos dados;\n",
    "\n",
    "d) Visualize as últimas linhas;\n",
    "\n",
    "e) Escreva um programa para renomear o cabeçalho da tabela com os\n",
    "\n",
    "f) seguintes nomes:"
   ]
  },
  {
   "cell_type": "code",
   "execution_count": 35,
   "metadata": {},
   "outputs": [
    {
     "data": {
      "text/html": [
       "<div>\n",
       "<style scoped>\n",
       "    .dataframe tbody tr th:only-of-type {\n",
       "        vertical-align: middle;\n",
       "    }\n",
       "\n",
       "    .dataframe tbody tr th {\n",
       "        vertical-align: top;\n",
       "    }\n",
       "\n",
       "    .dataframe thead th {\n",
       "        text-align: right;\n",
       "    }\n",
       "</style>\n",
       "<table border=\"1\" class=\"dataframe\">\n",
       "  <thead>\n",
       "    <tr style=\"text-align: right;\">\n",
       "      <th></th>\n",
       "      <th>Coluna 1</th>\n",
       "      <th>Coluna 2</th>\n",
       "      <th>Coluna 3</th>\n",
       "      <th>Coluna 4</th>\n",
       "      <th>Coluna 5</th>\n",
       "      <th>Coluna 6</th>\n",
       "    </tr>\n",
       "  </thead>\n",
       "  <tbody>\n",
       "    <tr>\n",
       "      <th>0</th>\n",
       "      <td>2014-01-01</td>\n",
       "      <td>Bernardo de Sousa</td>\n",
       "      <td>Supervisor de Vendas Pl</td>\n",
       "      <td>ACME</td>\n",
       "      <td>AL</td>\n",
       "      <td>3276.20</td>\n",
       "    </tr>\n",
       "    <tr>\n",
       "      <th>1</th>\n",
       "      <td>2014-01-01</td>\n",
       "      <td>Bernardo de Sousa</td>\n",
       "      <td>Supervisor de Vendas Pl</td>\n",
       "      <td>ACME</td>\n",
       "      <td>AP</td>\n",
       "      <td>3005.86</td>\n",
       "    </tr>\n",
       "    <tr>\n",
       "      <th>2</th>\n",
       "      <td>2014-01-01</td>\n",
       "      <td>Bernardo de Sousa</td>\n",
       "      <td>Supervisor de Vendas Pl</td>\n",
       "      <td>ACME</td>\n",
       "      <td>MA</td>\n",
       "      <td>8568.54</td>\n",
       "    </tr>\n",
       "    <tr>\n",
       "      <th>3</th>\n",
       "      <td>2014-01-01</td>\n",
       "      <td>Bernardo de Sousa</td>\n",
       "      <td>Supervisor de Vendas Pl</td>\n",
       "      <td>ACME</td>\n",
       "      <td>MG</td>\n",
       "      <td>1344.27</td>\n",
       "    </tr>\n",
       "    <tr>\n",
       "      <th>4</th>\n",
       "      <td>2014-01-01</td>\n",
       "      <td>Bernardo de Sousa</td>\n",
       "      <td>Supervisor de Vendas Pl</td>\n",
       "      <td>ACME</td>\n",
       "      <td>MS</td>\n",
       "      <td>7585.04</td>\n",
       "    </tr>\n",
       "  </tbody>\n",
       "</table>\n",
       "</div>"
      ],
      "text/plain": [
       "    Coluna 1           Coluna 2                 Coluna 3 Coluna 4 Coluna 5  \\\n",
       "0 2014-01-01  Bernardo de Sousa  Supervisor de Vendas Pl     ACME       AL   \n",
       "1 2014-01-01  Bernardo de Sousa  Supervisor de Vendas Pl     ACME       AP   \n",
       "2 2014-01-01  Bernardo de Sousa  Supervisor de Vendas Pl     ACME       MA   \n",
       "3 2014-01-01  Bernardo de Sousa  Supervisor de Vendas Pl     ACME       MG   \n",
       "4 2014-01-01  Bernardo de Sousa  Supervisor de Vendas Pl     ACME       MS   \n",
       "\n",
       "   Coluna 6  \n",
       "0   3276.20  \n",
       "1   3005.86  \n",
       "2   8568.54  \n",
       "3   1344.27  \n",
       "4   7585.04  "
      ]
     },
     "execution_count": 35,
     "metadata": {},
     "output_type": "execute_result"
    }
   ],
   "source": [
    "# Importar a biblioteca\n",
    "\n",
    "import pandas as pd\n",
    "\n",
    "caminho = 'C:\\\\Users\\\\FIC\\\\Documents\\\\david_python\\\\'\n",
    "arquivo = 'Vendas.xlsx'\n",
    "\n",
    "# Atribuir os dados em dataframe\n",
    "\n",
    "df = pd.read_excel(caminho + arquivo, sheet_name='Planilha1')\n",
    "\n",
    "# Visualizar os cabeçalhos\n",
    "\n",
    "df.head()"
   ]
  },
  {
   "cell_type": "code",
   "execution_count": 36,
   "metadata": {},
   "outputs": [
    {
     "data": {
      "text/html": [
       "<div>\n",
       "<style scoped>\n",
       "    .dataframe tbody tr th:only-of-type {\n",
       "        vertical-align: middle;\n",
       "    }\n",
       "\n",
       "    .dataframe tbody tr th {\n",
       "        vertical-align: top;\n",
       "    }\n",
       "\n",
       "    .dataframe thead th {\n",
       "        text-align: right;\n",
       "    }\n",
       "</style>\n",
       "<table border=\"1\" class=\"dataframe\">\n",
       "  <thead>\n",
       "    <tr style=\"text-align: right;\">\n",
       "      <th></th>\n",
       "      <th>Coluna 1</th>\n",
       "      <th>Coluna 2</th>\n",
       "      <th>Coluna 3</th>\n",
       "      <th>Coluna 4</th>\n",
       "      <th>Coluna 5</th>\n",
       "      <th>Coluna 6</th>\n",
       "    </tr>\n",
       "  </thead>\n",
       "  <tbody>\n",
       "    <tr>\n",
       "      <th>130461</th>\n",
       "      <td>2016-12-31</td>\n",
       "      <td>Liz Azevedo Santos</td>\n",
       "      <td>Vendedor Pl.</td>\n",
       "      <td>Planet Express</td>\n",
       "      <td>PI</td>\n",
       "      <td>1829.39</td>\n",
       "    </tr>\n",
       "    <tr>\n",
       "      <th>130462</th>\n",
       "      <td>2016-12-31</td>\n",
       "      <td>Liz Azevedo Santos</td>\n",
       "      <td>Vendedor Pl.</td>\n",
       "      <td>Planet Express</td>\n",
       "      <td>PR</td>\n",
       "      <td>2378.48</td>\n",
       "    </tr>\n",
       "    <tr>\n",
       "      <th>130463</th>\n",
       "      <td>2016-12-31</td>\n",
       "      <td>Liz Azevedo Santos</td>\n",
       "      <td>Vendedor Pl.</td>\n",
       "      <td>Planet Express</td>\n",
       "      <td>RO</td>\n",
       "      <td>4488.47</td>\n",
       "    </tr>\n",
       "    <tr>\n",
       "      <th>130464</th>\n",
       "      <td>2016-12-31</td>\n",
       "      <td>Liz Azevedo Santos</td>\n",
       "      <td>Vendedor Pl.</td>\n",
       "      <td>Planet Express</td>\n",
       "      <td>RR</td>\n",
       "      <td>1543.66</td>\n",
       "    </tr>\n",
       "    <tr>\n",
       "      <th>130465</th>\n",
       "      <td>2016-12-31</td>\n",
       "      <td>Liz Azevedo Santos</td>\n",
       "      <td>Vendedor Pl.</td>\n",
       "      <td>Planet Express</td>\n",
       "      <td>SC</td>\n",
       "      <td>9820.71</td>\n",
       "    </tr>\n",
       "  </tbody>\n",
       "</table>\n",
       "</div>"
      ],
      "text/plain": [
       "         Coluna 1            Coluna 2      Coluna 3        Coluna 4 Coluna 5  \\\n",
       "130461 2016-12-31  Liz Azevedo Santos  Vendedor Pl.  Planet Express       PI   \n",
       "130462 2016-12-31  Liz Azevedo Santos  Vendedor Pl.  Planet Express       PR   \n",
       "130463 2016-12-31  Liz Azevedo Santos  Vendedor Pl.  Planet Express       RO   \n",
       "130464 2016-12-31  Liz Azevedo Santos  Vendedor Pl.  Planet Express       RR   \n",
       "130465 2016-12-31  Liz Azevedo Santos  Vendedor Pl.  Planet Express       SC   \n",
       "\n",
       "        Coluna 6  \n",
       "130461   1829.39  \n",
       "130462   2378.48  \n",
       "130463   4488.47  \n",
       "130464   1543.66  \n",
       "130465   9820.71  "
      ]
     },
     "execution_count": 36,
     "metadata": {},
     "output_type": "execute_result"
    }
   ],
   "source": [
    "# d) Visualize as últimas linhas;\n",
    "\n",
    "df.tail()"
   ]
  },
  {
   "cell_type": "code",
   "execution_count": 37,
   "metadata": {},
   "outputs": [],
   "source": [
    "#Escreva um programa para renomear o cabeçalho da tabela. Utilizando o Columns\n",
    "\n",
    "df.columns = ['Data', 'Vendedor', 'Cargo', 'Cliente', 'UF', 'Vendas']\n"
   ]
  },
  {
   "cell_type": "code",
   "execution_count": 38,
   "metadata": {},
   "outputs": [
    {
     "name": "stdout",
     "output_type": "stream",
     "text": [
      "<class 'pandas.core.frame.DataFrame'>\n",
      "RangeIndex: 130466 entries, 0 to 130465\n",
      "Data columns (total 6 columns):\n",
      " #   Column    Non-Null Count   Dtype         \n",
      "---  ------    --------------   -----         \n",
      " 0   Data      130466 non-null  datetime64[ns]\n",
      " 1   Vendedor  130466 non-null  object        \n",
      " 2   Cargo     130466 non-null  object        \n",
      " 3   Cliente   130466 non-null  object        \n",
      " 4   UF        130466 non-null  object        \n",
      " 5   Vendas    130466 non-null  float64       \n",
      "dtypes: datetime64[ns](1), float64(1), object(4)\n",
      "memory usage: 6.0+ MB\n"
     ]
    }
   ],
   "source": [
    "# Quais são os tipos de dados que temos no dataframe\n",
    "\n",
    "df.info()"
   ]
  },
  {
   "cell_type": "code",
   "execution_count": 43,
   "metadata": {},
   "outputs": [
    {
     "data": {
      "text/plain": [
       "0         False\n",
       "1         False\n",
       "2         False\n",
       "3         False\n",
       "4         False\n",
       "          ...  \n",
       "130461    False\n",
       "130462    False\n",
       "130463    False\n",
       "130464    False\n",
       "130465    False\n",
       "Name: Vendas, Length: 130466, dtype: bool"
      ]
     },
     "execution_count": 43,
     "metadata": {},
     "output_type": "execute_result"
    }
   ],
   "source": [
    "\n",
    "\n",
    "df['Vendas'].isnull()"
   ]
  },
  {
   "cell_type": "code",
   "execution_count": 53,
   "metadata": {},
   "outputs": [
    {
     "name": "stdout",
     "output_type": "stream",
     "text": [
      "A soma de vendas é:  718501609.25\n",
      "A média de vendas é:  5507.194282418408\n",
      "A venda mais alta foi de:  10000.0\n",
      "A venda mais baixa foi de:  1000.01\n",
      "O número de vendas é:  130466\n"
     ]
    }
   ],
   "source": [
    "#i) Calcule a soma, média, máximo, mínimo e contagem da coluna Preço.\n",
    "\n",
    "print('A soma de vendas é: ',df['Vendas'].sum())\n",
    "\n",
    "print('A média de vendas é: ', df['Vendas'].mean())\n",
    "\n",
    "print('A venda mais alta foi de: ',df['Vendas'].max())\n",
    "\n",
    "print('A venda mais baixa foi de: ', df['Vendas'].min())\n",
    "\n",
    "print('O número de vendas é: ', df['Vendas'].count())\n",
    "\n"
   ]
  },
  {
   "cell_type": "markdown",
   "metadata": {},
   "source": [
    "j) Crie um programa para criar um dataframe para mostrar as vendas por cargo, e\n",
    "salvar um arquivo em csv para com o nome de cada cargo:\n",
    "▪ Supervisor de Vendas Pl\n",
    "▪ Gerente Regional Jr.\n",
    "▪ Supervisor de Vendas Sr\n",
    "▪ Coordenador de Vendas Pl.\n",
    "▪ Vendedor Jr.\n",
    "▪ Vendedor Sr.\n",
    "▪ Vendedor Pl.\n",
    "▪ Gerente Regional Pl.\n",
    "▪ Coordenador de Vendas Sr.\n",
    "▪ Coordenador de Vendas Jr.\n",
    "▪ Supervisor de Vendas Jr."
   ]
  },
  {
   "cell_type": "code",
   "execution_count": 63,
   "metadata": {},
   "outputs": [],
   "source": [
    "dfsupvendaspl = df[df['Cargo'] =='Supervisor de Vendas Pl']\n",
    "\n",
    "pasta_destino ='C:\\\\Users\\\\FIC\\\\Documents\\\\david_python\\\\Resultados Vendas\\\\'\n",
    "nome_arquivo = \"Supervisor de Vendas Pl.csv\"\n",
    "\n",
    "dfsupvendaspl.to_csv(pasta_destino + nome_arquivo)"
   ]
  },
  {
   "cell_type": "code",
   "execution_count": 64,
   "metadata": {},
   "outputs": [],
   "source": [
    "dfgerenteregional = df[df['Cargo'] == 'Gerente Regional Jr.']\n",
    "\n",
    "nome_arquivo = 'Gerente Regional Jr.csv'\n",
    "\n",
    "dfgerenteregional.to_csv(pasta_destino + nome_arquivo)\n"
   ]
  },
  {
   "cell_type": "code",
   "execution_count": 67,
   "metadata": {},
   "outputs": [],
   "source": [
    "dfsupervendassr = df[df['Cargo'] =='Supervisor de Vendas Sr']\n",
    "\n",
    "nome_arquivo = 'Supervisor de Vendas Sr.csv'\n",
    "\n",
    "dfsupervendassr.to_csv(pasta_destino + nome_arquivo)"
   ]
  },
  {
   "cell_type": "code",
   "execution_count": 69,
   "metadata": {},
   "outputs": [],
   "source": [
    "dfcoordvendaspl = df[df['Cargo'] == 'Coordenador de Vendas Pl.']\n",
    "\n",
    "nome_arquivo = 'Coordenador de Vendas Pl.csv'\n",
    "\n",
    "dfcoordvendaspl.to_csv(pasta_destino + nome_arquivo)\n",
    "\n"
   ]
  },
  {
   "cell_type": "code",
   "execution_count": 71,
   "metadata": {},
   "outputs": [],
   "source": [
    "dfvendjr = df[df['Cargo'] =='Vendedor Jr.']\n",
    "\n",
    "nome_arquivo = 'Vendedor Jr.csv'\n",
    "\n",
    "dfvendjr.to_csv(pasta_destino + nome_arquivo)\n"
   ]
  },
  {
   "cell_type": "code",
   "execution_count": 74,
   "metadata": {},
   "outputs": [],
   "source": [
    "dfvendsr = df[df['Cargo'] == 'Vendedor Sr.']\n",
    "\n",
    "nome_arquivo = 'Vendedor Sr.csv'\n",
    "\n",
    "dfvendsr.to_csv(pasta_destino + nome_arquivo, encoding='ANSI')\n"
   ]
  },
  {
   "cell_type": "code",
   "execution_count": 75,
   "metadata": {},
   "outputs": [],
   "source": [
    "dfvendpl = df[df['Cargo'] == 'Vendedor Pl.']\n",
    "\n",
    "nome_arquivo = 'Vendedor pl.csv'\n",
    "\n",
    "dfvendpl.to_csv(pasta_destino + nome_arquivo, encoding='ANSI')"
   ]
  },
  {
   "cell_type": "code",
   "execution_count": 77,
   "metadata": {},
   "outputs": [],
   "source": [
    "dfgerentepl = df[df['Cargo'] == 'Gerente Regional Pl.']\n",
    "\n",
    "nome_arquivo = 'Gerente Regional Pl.csv'\n",
    "\n",
    "dfgerentepl.to_csv(pasta_destino + nome_arquivo, encoding='ANSI')"
   ]
  },
  {
   "cell_type": "code",
   "execution_count": 78,
   "metadata": {},
   "outputs": [],
   "source": [
    "dfcoordvendassr = df[df['Cargo'] == 'Coordenador de Vendas Sr.']\n",
    "\n",
    "nome_arquivo = 'Coordenador de Vendas Sr.csv'\n",
    "\n",
    "dfcoordvendassr.to_csv(pasta_destino + nome_arquivo, encoding='ANSI')"
   ]
  },
  {
   "cell_type": "markdown",
   "metadata": {},
   "source": [
    "9. Crie um dataframe para cada coluna, contendo dados únicos."
   ]
  },
  {
   "cell_type": "code",
   "execution_count": 84,
   "metadata": {},
   "outputs": [
    {
     "data": {
      "text/plain": [
       "0        Supervisor de Vendas Pl\n",
       "11          Gerente Regional Jr.\n",
       "37       Supervisor de Vendas Sr\n",
       "48     Coordenador de Vendas Pl.\n",
       "98                  Vendedor Jr.\n",
       "162                 Vendedor Sr.\n",
       "174                 Vendedor Pl.\n",
       "186         Gerente Regional Pl.\n",
       "276    Coordenador de Vendas Sr.\n",
       "285    Coordenador de Vendas Jr.\n",
       "436     Supervisor de Vendas Jr.\n",
       "Name: Cargo, dtype: object"
      ]
     },
     "execution_count": 84,
     "metadata": {},
     "output_type": "execute_result"
    }
   ],
   "source": [
    "# Criar um dataframe apenas com a coluna Cargo\n",
    "\n",
    "dados_cargos = df['Cargo']\n",
    "\n",
    "# Contas quantos elementos existem antes de remover as duplicadas\n",
    "\n",
    "dados_cargos.count()\n",
    "\n",
    "# Criar um novo dataframe sem duplicadas\n",
    "\n",
    "dados_cargos = dados_cargos.drop_duplicates()\n",
    "\n",
    "# Contar quantos elementos ficaram após a remoção dos duplicados\n",
    "\n",
    "dados_cargos.count()\n",
    "\n",
    "dados_cargos\n"
   ]
  }
 ],
 "metadata": {
  "kernelspec": {
   "display_name": "Python 3",
   "language": "python",
   "name": "python3"
  },
  "language_info": {
   "codemirror_mode": {
    "name": "ipython",
    "version": 3
   },
   "file_extension": ".py",
   "mimetype": "text/x-python",
   "name": "python",
   "nbconvert_exporter": "python",
   "pygments_lexer": "ipython3",
   "version": "3.11.0"
  },
  "orig_nbformat": 4
 },
 "nbformat": 4,
 "nbformat_minor": 2
}
